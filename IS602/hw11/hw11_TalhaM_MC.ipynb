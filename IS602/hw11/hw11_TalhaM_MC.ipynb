{
 "cells": [
  {
   "cell_type": "code",
   "execution_count": 1,
   "metadata": {
    "collapsed": false
   },
   "outputs": [],
   "source": [
    "#1.The file (apple.2011.csv) has 3 columns: date, price, and percent change.  The information you are really interested in is the percent change.  This value is the percent change in the price from the previous date to the date on the corresponding row.\n",
    "#2. Use the percent change values to create a Gaussian random number generator.  This generator will create Gaussian-distributed randoms to use as hypothetical percent changes on the day to day price of Apple stock.\n",
    "#3. With that generator, create 20 random numbers.  With these randoms, you can find a potential price change over 20 days.\n",
    "#4. Start with the price from the last row and the random numbers to determine a hypothetical price after 20 days.  To do this, take that last price, apply a percent change and get a new price.  Then take that new price, and apply the next percent change.  Do this for the 20 randoms, and get a final price.\n",
    "#5. Store the final price after 20 days (you can discard the intermediate price values).\n",
    "#6. Repeat steps 3-5 a very large number of times.  Something like 10000.  Each run will yield a different result.\n",
    "#7. Take all of the stored prices (10000 or so), sort them, and find the 1% lowest percentile.  This value is the final result, and represents the VaR with 99% confidence.  This means that the price will be above this result after 20 days with a confidence level of 99%\n",
    "%matplotlib inline\n",
    "import pandas as pd\n",
    "import numpy as np\n",
    "import matplotlib.pyplot as plt\n",
    "import matplotlib.mlab as mlab\n",
    "import scipy.stats as stats\n",
    "import matplotlib\n",
    "matplotlib.style.use('ggplot')\n",
    "stockdata=pd.read_csv('apple.2011.csv',header=0, names=['date','close price','p_change'],index_col=0, parse_dates=True)"
   ]
  },
  {
   "cell_type": "code",
   "execution_count": 2,
   "metadata": {
    "collapsed": false,
    "scrolled": true
   },
   "outputs": [
    {
     "data": {
      "text/html": [
       "<div>\n",
       "<table border=\"1\" class=\"dataframe\">\n",
       "  <thead>\n",
       "    <tr style=\"text-align: right;\">\n",
       "      <th></th>\n",
       "      <th>close price</th>\n",
       "      <th>p_change</th>\n",
       "    </tr>\n",
       "    <tr>\n",
       "      <th>date</th>\n",
       "      <th></th>\n",
       "      <th></th>\n",
       "    </tr>\n",
       "  </thead>\n",
       "  <tbody>\n",
       "    <tr>\n",
       "      <th>2011-01-03</th>\n",
       "      <td>329.570</td>\n",
       "      <td>XXXXX</td>\n",
       "    </tr>\n",
       "    <tr>\n",
       "      <th>2011-01-04</th>\n",
       "      <td>331.290</td>\n",
       "      <td>0.005218922</td>\n",
       "    </tr>\n",
       "    <tr>\n",
       "      <th>2011-01-05</th>\n",
       "      <td>334.000</td>\n",
       "      <td>0.008180144</td>\n",
       "    </tr>\n",
       "    <tr>\n",
       "      <th>2011-01-06</th>\n",
       "      <td>333.730</td>\n",
       "      <td>-0.000808383</td>\n",
       "    </tr>\n",
       "    <tr>\n",
       "      <th>2011-01-07</th>\n",
       "      <td>336.120</td>\n",
       "      <td>0.007161478</td>\n",
       "    </tr>\n",
       "    <tr>\n",
       "      <th>2011-01-10</th>\n",
       "      <td>342.455</td>\n",
       "      <td>0.018847435</td>\n",
       "    </tr>\n",
       "    <tr>\n",
       "      <th>2011-01-11</th>\n",
       "      <td>341.640</td>\n",
       "      <td>-0.002379875</td>\n",
       "    </tr>\n",
       "    <tr>\n",
       "      <th>2011-01-12</th>\n",
       "      <td>344.420</td>\n",
       "      <td>0.00813722</td>\n",
       "    </tr>\n",
       "    <tr>\n",
       "      <th>2011-01-13</th>\n",
       "      <td>345.680</td>\n",
       "      <td>0.003658324</td>\n",
       "    </tr>\n",
       "    <tr>\n",
       "      <th>2011-01-14</th>\n",
       "      <td>348.480</td>\n",
       "      <td>0.008099977</td>\n",
       "    </tr>\n",
       "  </tbody>\n",
       "</table>\n",
       "</div>"
      ],
      "text/plain": [
       "            close price      p_change\n",
       "date                                 \n",
       "2011-01-03      329.570         XXXXX\n",
       "2011-01-04      331.290   0.005218922\n",
       "2011-01-05      334.000   0.008180144\n",
       "2011-01-06      333.730  -0.000808383\n",
       "2011-01-07      336.120   0.007161478\n",
       "2011-01-10      342.455   0.018847435\n",
       "2011-01-11      341.640  -0.002379875\n",
       "2011-01-12      344.420    0.00813722\n",
       "2011-01-13      345.680   0.003658324\n",
       "2011-01-14      348.480   0.008099977"
      ]
     },
     "execution_count": 2,
     "metadata": {},
     "output_type": "execute_result"
    }
   ],
   "source": [
    "stockdata.head(n=10)"
   ]
  },
  {
   "cell_type": "code",
   "execution_count": 3,
   "metadata": {
    "collapsed": false
   },
   "outputs": [
    {
     "data": {
      "text/html": [
       "<div>\n",
       "<table border=\"1\" class=\"dataframe\">\n",
       "  <thead>\n",
       "    <tr style=\"text-align: right;\">\n",
       "      <th></th>\n",
       "      <th>close price</th>\n",
       "      <th>p_change</th>\n",
       "    </tr>\n",
       "    <tr>\n",
       "      <th>date</th>\n",
       "      <th></th>\n",
       "      <th></th>\n",
       "    </tr>\n",
       "  </thead>\n",
       "  <tbody>\n",
       "    <tr>\n",
       "      <th>2011-12-16</th>\n",
       "      <td>381.020</td>\n",
       "      <td>0.005488996</td>\n",
       "    </tr>\n",
       "    <tr>\n",
       "      <th>2011-12-19</th>\n",
       "      <td>382.210</td>\n",
       "      <td>0.003123196</td>\n",
       "    </tr>\n",
       "    <tr>\n",
       "      <th>2011-12-20</th>\n",
       "      <td>395.950</td>\n",
       "      <td>0.035948824</td>\n",
       "    </tr>\n",
       "    <tr>\n",
       "      <th>2011-12-21</th>\n",
       "      <td>396.445</td>\n",
       "      <td>0.001250158</td>\n",
       "    </tr>\n",
       "    <tr>\n",
       "      <th>2011-12-22</th>\n",
       "      <td>398.550</td>\n",
       "      <td>0.00530969</td>\n",
       "    </tr>\n",
       "    <tr>\n",
       "      <th>2011-12-23</th>\n",
       "      <td>403.330</td>\n",
       "      <td>0.011993476</td>\n",
       "    </tr>\n",
       "    <tr>\n",
       "      <th>2011-12-27</th>\n",
       "      <td>406.530</td>\n",
       "      <td>0.00793395</td>\n",
       "    </tr>\n",
       "    <tr>\n",
       "      <th>2011-12-28</th>\n",
       "      <td>402.640</td>\n",
       "      <td>-0.00956879</td>\n",
       "    </tr>\n",
       "    <tr>\n",
       "      <th>2011-12-29</th>\n",
       "      <td>405.120</td>\n",
       "      <td>0.006159348</td>\n",
       "    </tr>\n",
       "    <tr>\n",
       "      <th>2011-12-30</th>\n",
       "      <td>405.000</td>\n",
       "      <td>-0.000296209</td>\n",
       "    </tr>\n",
       "  </tbody>\n",
       "</table>\n",
       "</div>"
      ],
      "text/plain": [
       "            close price      p_change\n",
       "date                                 \n",
       "2011-12-16      381.020   0.005488996\n",
       "2011-12-19      382.210   0.003123196\n",
       "2011-12-20      395.950   0.035948824\n",
       "2011-12-21      396.445   0.001250158\n",
       "2011-12-22      398.550    0.00530969\n",
       "2011-12-23      403.330   0.011993476\n",
       "2011-12-27      406.530    0.00793395\n",
       "2011-12-28      402.640   -0.00956879\n",
       "2011-12-29      405.120   0.006159348\n",
       "2011-12-30      405.000  -0.000296209"
      ]
     },
     "execution_count": 3,
     "metadata": {},
     "output_type": "execute_result"
    }
   ],
   "source": [
    "stockdata.tail(n=10)"
   ]
  },
  {
   "cell_type": "code",
   "execution_count": 4,
   "metadata": {
    "collapsed": false
   },
   "outputs": [
    {
     "data": {
      "text/plain": [
       "<matplotlib.axes._subplots.AxesSubplot at 0x475b160>"
      ]
     },
     "execution_count": 4,
     "metadata": {},
     "output_type": "execute_result"
    },
    {
     "data": {
      "image/png": "[encoded data removed]",
      "text/plain": [
       "<matplotlib.figure.Figure at 0x475b3c8>"
      ]
     },
     "metadata": {},
     "output_type": "display_data"
    }
   ],
   "source": [
    "stockdata.plot()"
   ]
  },
  {
   "cell_type": "code",
   "execution_count": 5,
   "metadata": {
    "collapsed": false
   },
   "outputs": [],
   "source": [
    "stockdata['p_change']=stockdata['p_change'].str.replace('XXXXX','NaN')\n",
    "stockdata['p_change']=pd.to_numeric(stockdata['p_change'],errors='coerce')\n",
    "stockchange=pd.DataFrame(stockdata['p_change'])"
   ]
  },
  {
   "cell_type": "code",
   "execution_count": 6,
   "metadata": {
    "collapsed": false
   },
   "outputs": [
    {
     "data": {
      "text/html": [
       "<div>\n",
       "<table border=\"1\" class=\"dataframe\">\n",
       "  <thead>\n",
       "    <tr style=\"text-align: right;\">\n",
       "      <th></th>\n",
       "      <th>p_change</th>\n",
       "    </tr>\n",
       "    <tr>\n",
       "      <th>date</th>\n",
       "      <th></th>\n",
       "    </tr>\n",
       "  </thead>\n",
       "  <tbody>\n",
       "    <tr>\n",
       "      <th>2011-01-03</th>\n",
       "      <td>NaN</td>\n",
       "    </tr>\n",
       "    <tr>\n",
       "      <th>2011-01-04</th>\n",
       "      <td>0.005219</td>\n",
       "    </tr>\n",
       "    <tr>\n",
       "      <th>2011-01-05</th>\n",
       "      <td>0.008180</td>\n",
       "    </tr>\n",
       "    <tr>\n",
       "      <th>2011-01-06</th>\n",
       "      <td>-0.000808</td>\n",
       "    </tr>\n",
       "    <tr>\n",
       "      <th>2011-01-07</th>\n",
       "      <td>0.007161</td>\n",
       "    </tr>\n",
       "    <tr>\n",
       "      <th>2011-01-10</th>\n",
       "      <td>0.018847</td>\n",
       "    </tr>\n",
       "    <tr>\n",
       "      <th>2011-01-11</th>\n",
       "      <td>-0.002380</td>\n",
       "    </tr>\n",
       "    <tr>\n",
       "      <th>2011-01-12</th>\n",
       "      <td>0.008137</td>\n",
       "    </tr>\n",
       "    <tr>\n",
       "      <th>2011-01-13</th>\n",
       "      <td>0.003658</td>\n",
       "    </tr>\n",
       "    <tr>\n",
       "      <th>2011-01-14</th>\n",
       "      <td>0.008100</td>\n",
       "    </tr>\n",
       "  </tbody>\n",
       "</table>\n",
       "</div>"
      ],
      "text/plain": [
       "            p_change\n",
       "date                \n",
       "2011-01-03       NaN\n",
       "2011-01-04  0.005219\n",
       "2011-01-05  0.008180\n",
       "2011-01-06 -0.000808\n",
       "2011-01-07  0.007161\n",
       "2011-01-10  0.018847\n",
       "2011-01-11 -0.002380\n",
       "2011-01-12  0.008137\n",
       "2011-01-13  0.003658\n",
       "2011-01-14  0.008100"
      ]
     },
     "execution_count": 6,
     "metadata": {},
     "output_type": "execute_result"
    }
   ],
   "source": [
    "#stockchange.columns['p_change']\n",
    "stockchange.head(n=10)"
   ]
  },
  {
   "cell_type": "code",
   "execution_count": 7,
   "metadata": {
    "collapsed": false
   },
   "outputs": [
    {
     "data": {
      "text/html": [
       "<div>\n",
       "<table border=\"1\" class=\"dataframe\">\n",
       "  <thead>\n",
       "    <tr style=\"text-align: right;\">\n",
       "      <th></th>\n",
       "      <th>close price</th>\n",
       "      <th>p_change</th>\n",
       "    </tr>\n",
       "    <tr>\n",
       "      <th>date</th>\n",
       "      <th></th>\n",
       "      <th></th>\n",
       "    </tr>\n",
       "  </thead>\n",
       "  <tbody>\n",
       "    <tr>\n",
       "      <th>2011-12-02</th>\n",
       "      <td>389.700</td>\n",
       "      <td>0.004563</td>\n",
       "    </tr>\n",
       "    <tr>\n",
       "      <th>2011-12-05</th>\n",
       "      <td>393.010</td>\n",
       "      <td>0.008494</td>\n",
       "    </tr>\n",
       "    <tr>\n",
       "      <th>2011-12-06</th>\n",
       "      <td>390.950</td>\n",
       "      <td>-0.005242</td>\n",
       "    </tr>\n",
       "    <tr>\n",
       "      <th>2011-12-07</th>\n",
       "      <td>389.090</td>\n",
       "      <td>-0.004758</td>\n",
       "    </tr>\n",
       "    <tr>\n",
       "      <th>2011-12-08</th>\n",
       "      <td>390.660</td>\n",
       "      <td>0.004035</td>\n",
       "    </tr>\n",
       "    <tr>\n",
       "      <th>2011-12-09</th>\n",
       "      <td>393.620</td>\n",
       "      <td>0.007577</td>\n",
       "    </tr>\n",
       "    <tr>\n",
       "      <th>2011-12-12</th>\n",
       "      <td>391.840</td>\n",
       "      <td>-0.004522</td>\n",
       "    </tr>\n",
       "    <tr>\n",
       "      <th>2011-12-13</th>\n",
       "      <td>388.810</td>\n",
       "      <td>-0.007733</td>\n",
       "    </tr>\n",
       "    <tr>\n",
       "      <th>2011-12-14</th>\n",
       "      <td>380.190</td>\n",
       "      <td>-0.022170</td>\n",
       "    </tr>\n",
       "    <tr>\n",
       "      <th>2011-12-15</th>\n",
       "      <td>378.940</td>\n",
       "      <td>-0.003288</td>\n",
       "    </tr>\n",
       "    <tr>\n",
       "      <th>2011-12-16</th>\n",
       "      <td>381.020</td>\n",
       "      <td>0.005489</td>\n",
       "    </tr>\n",
       "    <tr>\n",
       "      <th>2011-12-19</th>\n",
       "      <td>382.210</td>\n",
       "      <td>0.003123</td>\n",
       "    </tr>\n",
       "    <tr>\n",
       "      <th>2011-12-20</th>\n",
       "      <td>395.950</td>\n",
       "      <td>0.035949</td>\n",
       "    </tr>\n",
       "    <tr>\n",
       "      <th>2011-12-21</th>\n",
       "      <td>396.445</td>\n",
       "      <td>0.001250</td>\n",
       "    </tr>\n",
       "    <tr>\n",
       "      <th>2011-12-22</th>\n",
       "      <td>398.550</td>\n",
       "      <td>0.005310</td>\n",
       "    </tr>\n",
       "    <tr>\n",
       "      <th>2011-12-23</th>\n",
       "      <td>403.330</td>\n",
       "      <td>0.011993</td>\n",
       "    </tr>\n",
       "    <tr>\n",
       "      <th>2011-12-27</th>\n",
       "      <td>406.530</td>\n",
       "      <td>0.007934</td>\n",
       "    </tr>\n",
       "    <tr>\n",
       "      <th>2011-12-28</th>\n",
       "      <td>402.640</td>\n",
       "      <td>-0.009569</td>\n",
       "    </tr>\n",
       "    <tr>\n",
       "      <th>2011-12-29</th>\n",
       "      <td>405.120</td>\n",
       "      <td>0.006159</td>\n",
       "    </tr>\n",
       "    <tr>\n",
       "      <th>2011-12-30</th>\n",
       "      <td>405.000</td>\n",
       "      <td>-0.000296</td>\n",
       "    </tr>\n",
       "  </tbody>\n",
       "</table>\n",
       "</div>"
      ],
      "text/plain": [
       "            close price  p_change\n",
       "date                             \n",
       "2011-12-02      389.700  0.004563\n",
       "2011-12-05      393.010  0.008494\n",
       "2011-12-06      390.950 -0.005242\n",
       "2011-12-07      389.090 -0.004758\n",
       "2011-12-08      390.660  0.004035\n",
       "2011-12-09      393.620  0.007577\n",
       "2011-12-12      391.840 -0.004522\n",
       "2011-12-13      388.810 -0.007733\n",
       "2011-12-14      380.190 -0.022170\n",
       "2011-12-15      378.940 -0.003288\n",
       "2011-12-16      381.020  0.005489\n",
       "2011-12-19      382.210  0.003123\n",
       "2011-12-20      395.950  0.035949\n",
       "2011-12-21      396.445  0.001250\n",
       "2011-12-22      398.550  0.005310\n",
       "2011-12-23      403.330  0.011993\n",
       "2011-12-27      406.530  0.007934\n",
       "2011-12-28      402.640 -0.009569\n",
       "2011-12-29      405.120  0.006159\n",
       "2011-12-30      405.000 -0.000296"
      ]
     },
     "execution_count": 7,
     "metadata": {},
     "output_type": "execute_result"
    }
   ],
   "source": [
    "stockdata.tail(n=20)"
   ]
  },
  {
   "cell_type": "code",
   "execution_count": 8,
   "metadata": {
    "collapsed": false
   },
   "outputs": [
    {
     "data": {
      "text/plain": [
       "<matplotlib.axes._subplots.AxesSubplot at 0xa256630>"
      ]
     },
     "execution_count": 8,
     "metadata": {},
     "output_type": "execute_result"
    },
    {
     "data": {
      "image/png": "[encoded data removed]",
      "text/plain": [
       "<matplotlib.figure.Figure at 0xa24c160>"
      ]
     },
     "metadata": {},
     "output_type": "display_data"
    }
   ],
   "source": [
    "stockchange.plot()"
   ]
  },
  {
   "cell_type": "code",
   "execution_count": 9,
   "metadata": {
    "collapsed": false
   },
   "outputs": [
    {
     "name": "stdout",
     "output_type": "stream",
     "text": [
      "Mean and Std Deviation\n",
      "[ 0.01652056] [ 0.00095736]\n"
     ]
    },
    {
     "data": {
      "text/plain": [
       "(array([  1.,   9.,  15.,  28.,  58.,  70.,  59.,  40.,  11.,   9.]),\n",
       " array([-0.04826724, -0.03926808, -0.03026893, -0.02126977, -0.01227062,\n",
       "        -0.00327146,  0.0057277 ,  0.01472685,  0.02372601,  0.03272517,\n",
       "         0.04172432]),\n",
       " <a list of 10 Patch objects>)"
      ]
     },
     "execution_count": 9,
     "metadata": {},
     "output_type": "execute_result"
    },
    {
     "data": {
      "text/plain": [
       "<matplotlib.figure.Figure at 0xb96d7f0>"
      ]
     },
     "metadata": {},
     "output_type": "display_data"
    },
    {
     "data": {
      "image/png": "[encoded data removed]",
      "text/plain": [
       "<matplotlib.figure.Figure at 0xb92add8>"
      ]
     },
     "metadata": {},
     "output_type": "display_data"
    }
   ],
   "source": [
    "#plot returns and histogram of estimated results\n",
    "#reference https://stackoverflow.com/questions/10138085/python-pylab-plot-normal-distribution\n",
    "mu = stockchange.mean().as_matrix(columns=['p_change'])\n",
    "s = stockchange.std().as_matrix(columns=['p_change'])\n",
    "#s=s.as_matrix(columns=['p_change'])\n",
    "print \"Mean and Std Deviation\"\n",
    "print s, mu\n",
    "x =np.linspace(mu-3*s,mu+3*s, 100)\n",
    "#initial simulation\n",
    "np.random.seed(10)\n",
    "sim1=np.random.normal(mu,s,300)\n",
    "#plot the figure\n",
    "plt.figure()\n",
    "stockchange.plot.hist(alpha=0.7,bins=10,title='Histogram of Apple Stock Price Changes')\n",
    "plt.plot(x,stats.norm.pdf(x,mu,s),color='blue')\n",
    "plt.hist(sim1,bins=10, color='yellow',alpha=0.5,label='simulation')"
   ]
  },
  {
   "cell_type": "code",
   "execution_count": 10,
   "metadata": {
    "collapsed": false
   },
   "outputs": [
    {
     "name": "stdout",
     "output_type": "stream",
     "text": [
      "[  1.34353307e-02   1.54869481e-02  -3.00685634e-03  -1.05253672e-02\n",
      "  -6.83043640e-03   6.73089989e-03   2.75795262e-02   4.91137303e-03\n",
      "   8.96986843e-03  -2.64437172e-02   4.52309643e-02  -1.72734443e-02\n",
      "   3.09881351e-02  -8.22885620e-03   1.67792777e-02   1.44252544e-02\n",
      "   2.01994747e-03  -1.79175410e-03  -1.45836936e-02   7.19442242e-05]\n",
      "[ 1.01343533  1.01548695  0.99699314  0.98947463  0.99316956  1.0067309\n",
      "  1.02757953  1.00491137  1.00896987  0.97355628  1.04523096  0.98272656\n",
      "  1.03098814  0.99177114  1.01677928  1.01442525  1.00201995  0.99820825\n",
      "  0.98541631  1.00007194]\n"
     ]
    }
   ],
   "source": [
    "#generate 20 days of simulated returns\n",
    "sim2=np.random.normal(mu,s,20)\n",
    "print sim2\n",
    "sim2=1+sim2\n",
    "print sim2"
   ]
  },
  {
   "cell_type": "code",
   "execution_count": 11,
   "metadata": {
    "collapsed": false
   },
   "outputs": [],
   "source": [
    "#calculate the change in price over the last 20 days\n",
    "#reference, https://stackoverflow.com/questions/2104782/returning-the-product-of-a-list\n",
    "def calcprice(list,price):\n",
    "    change=reduce(lambda x,y: x*y,list)\n",
    "    return change*price"
   ]
  },
  {
   "cell_type": "code",
   "execution_count": 12,
   "metadata": {
    "collapsed": false
   },
   "outputs": [
    {
     "name": "stdout",
     "output_type": "stream",
     "text": [
      "109.949138352\n"
     ]
    }
   ],
   "source": [
    "print calcprice(sim2,100)"
   ]
  },
  {
   "cell_type": "code",
   "execution_count": 13,
   "metadata": {
    "collapsed": false
   },
   "outputs": [
    {
     "name": "stdout",
     "output_type": "stream",
     "text": [
      "405.0\n"
     ]
    }
   ],
   "source": [
    "# extract the end of the year price\n",
    "lastprice=stockdata['close price'][251]\n",
    "print lastprice"
   ]
  },
  {
   "cell_type": "code",
   "execution_count": 14,
   "metadata": {
    "collapsed": false
   },
   "outputs": [
    {
     "name": "stdout",
     "output_type": "stream",
     "text": [
      "445.294010325\n"
     ]
    }
   ],
   "source": [
    "# simulate the price after 20 days\n",
    "print calcprice(sim2,lastprice)"
   ]
  },
  {
   "cell_type": "code",
   "execution_count": 15,
   "metadata": {
    "collapsed": false
   },
   "outputs": [],
   "source": [
    "#define a simulator function \n",
    "def simulator(num,price,days,mean,sd):\n",
    "    runs=np.zeros(num)\n",
    "    changes=np.zeros(days)\n",
    "    for x in range(0,num):\n",
    "        changes=np.random.normal(mean,sd,days)\n",
    "        changes=1+changes\n",
    "        runs[x]=calcprice(changes,price)\n",
    "    return runs"
   ]
  },
  {
   "cell_type": "code",
   "execution_count": 16,
   "metadata": {
    "collapsed": false
   },
   "outputs": [
    {
     "data": {
      "text/html": [
       "<div>\n",
       "<table border=\"1\" class=\"dataframe\">\n",
       "  <thead>\n",
       "    <tr style=\"text-align: right;\">\n",
       "      <th></th>\n",
       "      <th>simulation</th>\n",
       "    </tr>\n",
       "  </thead>\n",
       "  <tbody>\n",
       "    <tr>\n",
       "      <th>0</th>\n",
       "      <td>418.535594</td>\n",
       "    </tr>\n",
       "    <tr>\n",
       "      <th>1</th>\n",
       "      <td>438.053120</td>\n",
       "    </tr>\n",
       "    <tr>\n",
       "      <th>2</th>\n",
       "      <td>403.596433</td>\n",
       "    </tr>\n",
       "    <tr>\n",
       "      <th>3</th>\n",
       "      <td>410.062284</td>\n",
       "    </tr>\n",
       "    <tr>\n",
       "      <th>4</th>\n",
       "      <td>387.308105</td>\n",
       "    </tr>\n",
       "  </tbody>\n",
       "</table>\n",
       "</div>"
      ],
      "text/plain": [
       "   simulation\n",
       "0  418.535594\n",
       "1  438.053120\n",
       "2  403.596433\n",
       "3  410.062284\n",
       "4  387.308105"
      ]
     },
     "execution_count": 16,
     "metadata": {},
     "output_type": "execute_result"
    }
   ],
   "source": [
    "# run the simulations\n",
    "var_results=simulator(10000,lastprice,20,mu,s)\n",
    "var_results=pd.DataFrame(var_results)\n",
    "var_results.columns=['simulation']\n",
    "var_results.head(n=5)"
   ]
  },
  {
   "cell_type": "code",
   "execution_count": 17,
   "metadata": {
    "collapsed": false
   },
   "outputs": [
    {
     "data": {
      "text/plain": [
       "<matplotlib.axes._subplots.AxesSubplot at 0xbc24160>"
      ]
     },
     "execution_count": 17,
     "metadata": {},
     "output_type": "execute_result"
    },
    {
     "data": {
      "text/plain": [
       "<matplotlib.figure.Figure at 0xa3308d0>"
      ]
     },
     "metadata": {},
     "output_type": "display_data"
    },
    {
     "data": {
      "image/png": "[encoded data removed]",
      "text/plain": [
       "<matplotlib.figure.Figure at 0xa2a55c0>"
      ]
     },
     "metadata": {},
     "output_type": "display_data"
    }
   ],
   "source": [
    "plt.figure()\n",
    "var_results.plot.hist(alpha=0.5,bins=10,color='blue',title='Histogram of VAR Simulation Over 20 Days')\n",
    "#plt.plot(x,stats.norm.pdf(x,mu,s),color='blue')\n",
    "#plt.hist(var_results,bins=10, color='yellow',alpha=0.5,title=)"
   ]
  },
  {
   "cell_type": "code",
   "execution_count": 18,
   "metadata": {
    "collapsed": false
   },
   "outputs": [
    {
     "data": {
      "text/html": [
       "<div>\n",
       "<table border=\"1\" class=\"dataframe\">\n",
       "  <thead>\n",
       "    <tr style=\"text-align: right;\">\n",
       "      <th></th>\n",
       "      <th>simulation</th>\n",
       "    </tr>\n",
       "  </thead>\n",
       "  <tbody>\n",
       "    <tr>\n",
       "      <th>0.01</th>\n",
       "      <td>347.228966</td>\n",
       "    </tr>\n",
       "    <tr>\n",
       "      <th>0.05</th>\n",
       "      <td>364.664223</td>\n",
       "    </tr>\n",
       "    <tr>\n",
       "      <th>0.10</th>\n",
       "      <td>374.581720</td>\n",
       "    </tr>\n",
       "  </tbody>\n",
       "</table>\n",
       "</div>"
      ],
      "text/plain": [
       "      simulation\n",
       "0.01  347.228966\n",
       "0.05  364.664223\n",
       "0.10  374.581720"
      ]
     },
     "execution_count": 18,
     "metadata": {},
     "output_type": "execute_result"
    }
   ],
   "source": [
    "#calculate quantiles of the VAR\n",
    "var_results.quantile([0.01,0.05,0.1])"
   ]
  },
  {
   "cell_type": "code",
   "execution_count": null,
   "metadata": {
    "collapsed": true
   },
   "outputs": [],
   "source": []
  }
 ],
 "metadata": {
  "kernelspec": {
   "display_name": "Python 2",
   "language": "python",
   "name": "python2"
  },
  "language_info": {
   "codemirror_mode": {
    "name": "ipython",
    "version": 2
   },
   "file_extension": ".py",
   "mimetype": "text/x-python",
   "name": "python",
   "nbconvert_exporter": "python",
   "pygments_lexer": "ipython2",
   "version": "2.7.13"
  }
 },
 "nbformat": 4,
 "nbformat_minor": 2
}
