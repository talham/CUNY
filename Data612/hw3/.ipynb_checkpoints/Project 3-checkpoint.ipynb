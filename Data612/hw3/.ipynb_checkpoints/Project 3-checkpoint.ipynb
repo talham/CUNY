{
 "cells": [
  {
   "cell_type": "markdown",
   "metadata": {},
   "source": [
    "## Project 3: Implementing Collaborative Filtering with SVD and ALS"
   ]
  },
  {
   "cell_type": "code",
   "execution_count": 1,
   "metadata": {},
   "outputs": [],
   "source": [
    "import pandas as pd\n",
    "import numpy as np"
   ]
  },
  {
   "cell_type": "code",
   "execution_count": 2,
   "metadata": {},
   "outputs": [],
   "source": [
    "import matplotlib \n",
    "import matplotlib.pyplot as plt\n",
    "%matplotlib inline"
   ]
  },
  {
   "cell_type": "code",
   "execution_count": 3,
   "metadata": {},
   "outputs": [],
   "source": [
    "from scipy import linalg"
   ]
  },
  {
   "cell_type": "code",
   "execution_count": 4,
   "metadata": {},
   "outputs": [],
   "source": [
    "from sklearn.model_selection import train_test_split"
   ]
  },
  {
   "cell_type": "code",
   "execution_count": 5,
   "metadata": {},
   "outputs": [],
   "source": [
    "from numpy import nan"
   ]
  },
  {
   "cell_type": "code",
   "execution_count": 186,
   "metadata": {},
   "outputs": [],
   "source": [
    "from sklearn.metrics import mean_squared_error as sk_rmse"
   ]
  },
  {
   "cell_type": "code",
   "execution_count": 205,
   "metadata": {},
   "outputs": [],
   "source": [
    "import math as m"
   ]
  },
  {
   "cell_type": "code",
   "execution_count": 212,
   "metadata": {},
   "outputs": [],
   "source": [
    "from sklearn.metrics.pairwise import cosine_similarity"
   ]
  },
  {
   "cell_type": "markdown",
   "metadata": {},
   "source": [
    "### 1. The Dataset"
   ]
  },
  {
   "cell_type": "code",
   "execution_count": 6,
   "metadata": {},
   "outputs": [],
   "source": [
    "path=\"C:/Users/talha/Documents/Training/CUNY Classes/Data612/Week1/ml-latest-small/\""
   ]
  },
  {
   "cell_type": "code",
   "execution_count": 126,
   "metadata": {},
   "outputs": [],
   "source": [
    "ratings=pd.read_csv(path+'ratings.csv')"
   ]
  },
  {
   "cell_type": "code",
   "execution_count": 127,
   "metadata": {},
   "outputs": [],
   "source": [
    "movie_names=pd.read_csv(path+'movies.csv')"
   ]
  },
  {
   "cell_type": "code",
   "execution_count": 128,
   "metadata": {},
   "outputs": [
    {
     "data": {
      "text/html": [
       "<div>\n",
       "<style scoped>\n",
       "    .dataframe tbody tr th:only-of-type {\n",
       "        vertical-align: middle;\n",
       "    }\n",
       "\n",
       "    .dataframe tbody tr th {\n",
       "        vertical-align: top;\n",
       "    }\n",
       "\n",
       "    .dataframe thead th {\n",
       "        text-align: right;\n",
       "    }\n",
       "</style>\n",
       "<table border=\"1\" class=\"dataframe\">\n",
       "  <thead>\n",
       "    <tr style=\"text-align: right;\">\n",
       "      <th></th>\n",
       "      <th>userId</th>\n",
       "      <th>movieId</th>\n",
       "      <th>rating</th>\n",
       "      <th>timestamp</th>\n",
       "    </tr>\n",
       "  </thead>\n",
       "  <tbody>\n",
       "    <tr>\n",
       "      <td>0</td>\n",
       "      <td>1</td>\n",
       "      <td>1</td>\n",
       "      <td>4.0</td>\n",
       "      <td>964982703</td>\n",
       "    </tr>\n",
       "    <tr>\n",
       "      <td>1</td>\n",
       "      <td>1</td>\n",
       "      <td>3</td>\n",
       "      <td>4.0</td>\n",
       "      <td>964981247</td>\n",
       "    </tr>\n",
       "    <tr>\n",
       "      <td>2</td>\n",
       "      <td>1</td>\n",
       "      <td>6</td>\n",
       "      <td>4.0</td>\n",
       "      <td>964982224</td>\n",
       "    </tr>\n",
       "    <tr>\n",
       "      <td>3</td>\n",
       "      <td>1</td>\n",
       "      <td>47</td>\n",
       "      <td>5.0</td>\n",
       "      <td>964983815</td>\n",
       "    </tr>\n",
       "    <tr>\n",
       "      <td>4</td>\n",
       "      <td>1</td>\n",
       "      <td>50</td>\n",
       "      <td>5.0</td>\n",
       "      <td>964982931</td>\n",
       "    </tr>\n",
       "  </tbody>\n",
       "</table>\n",
       "</div>"
      ],
      "text/plain": [
       "   userId  movieId  rating  timestamp\n",
       "0       1        1     4.0  964982703\n",
       "1       1        3     4.0  964981247\n",
       "2       1        6     4.0  964982224\n",
       "3       1       47     5.0  964983815\n",
       "4       1       50     5.0  964982931"
      ]
     },
     "execution_count": 128,
     "metadata": {},
     "output_type": "execute_result"
    }
   ],
   "source": [
    "ratings.head(n=5)"
   ]
  },
  {
   "cell_type": "code",
   "execution_count": 129,
   "metadata": {},
   "outputs": [],
   "source": [
    "ratings_train,ratings_test=train_test_split(ratings,test_size=0.3,random_state=123)"
   ]
  },
  {
   "cell_type": "code",
   "execution_count": 130,
   "metadata": {},
   "outputs": [],
   "source": [
    "ratings_train=ratings_train.copy()"
   ]
  },
  {
   "cell_type": "code",
   "execution_count": 131,
   "metadata": {},
   "outputs": [
    {
     "data": {
      "text/plain": [
       "(100836, 4)"
      ]
     },
     "execution_count": 131,
     "metadata": {},
     "output_type": "execute_result"
    }
   ],
   "source": [
    "ratings.shape"
   ]
  },
  {
   "cell_type": "code",
   "execution_count": 132,
   "metadata": {},
   "outputs": [
    {
     "data": {
      "text/plain": [
       "(70585, 4)"
      ]
     },
     "execution_count": 132,
     "metadata": {},
     "output_type": "execute_result"
    }
   ],
   "source": [
    "ratings_train.shape"
   ]
  },
  {
   "cell_type": "code",
   "execution_count": 133,
   "metadata": {},
   "outputs": [
    {
     "data": {
      "text/plain": [
       "(30251, 4)"
      ]
     },
     "execution_count": 133,
     "metadata": {},
     "output_type": "execute_result"
    }
   ],
   "source": [
    "ratings_test.shape"
   ]
  },
  {
   "cell_type": "markdown",
   "metadata": {},
   "source": [
    "### 2. Standardize ratings and calculate Baseline Predictor"
   ]
  },
  {
   "cell_type": "code",
   "execution_count": 134,
   "metadata": {},
   "outputs": [],
   "source": [
    "#calculate mean rating by user\n",
    "user_mean=ratings_train[['userId','rating']].groupby('userId').mean().rename(columns={'rating':'user_avg'})\n",
    "user_m_test=ratings_test[['userId','rating']].groupby('userId').mean().rename(columns={'rating':'user_avg'})"
   ]
  },
  {
   "cell_type": "code",
   "execution_count": 135,
   "metadata": {},
   "outputs": [],
   "source": [
    "#calculate mean rating by movie\n",
    "movie_mean=ratings_train[['movieId','rating']].groupby('movieId').mean().rename(columns={'rating':'movie_avg'})\n",
    "movie_m_test=ratings_test[['movieId','rating']].groupby('movieId').mean().rename(columns={'rating':'movie_avg'})"
   ]
  },
  {
   "cell_type": "code",
   "execution_count": 136,
   "metadata": {},
   "outputs": [],
   "source": [
    "#merge user mean\n",
    "ratings_train=ratings_train.merge(user_mean, left_on='userId',right_on='userId')\n",
    "ratings_test=ratings_test.merge(user_m_test, left_on='userId',right_on='userId')"
   ]
  },
  {
   "cell_type": "code",
   "execution_count": 137,
   "metadata": {},
   "outputs": [],
   "source": [
    "#merge movie mean\n",
    "ratings_train=ratings_train.merge(movie_mean, left_on='movieId',right_on='movieId')\n",
    "ratings_test=ratings_test.merge(movie_m_test, left_on='movieId',right_on='movieId')"
   ]
  },
  {
   "cell_type": "code",
   "execution_count": 138,
   "metadata": {},
   "outputs": [],
   "source": [
    "#standardize the ratings\n",
    "ratings_train['user_std']=ratings_train['rating']-ratings_train['user_avg']\n",
    "ratings_test['user_std']=ratings_test['rating']-ratings_test['user_avg']\n",
    "ratings_train['movie_std']=ratings_train['rating']-ratings_train['movie_avg']\n",
    "ratings_test['movie_std']=ratings_test['rating']-ratings_test['movie_avg']"
   ]
  },
  {
   "cell_type": "code",
   "execution_count": 139,
   "metadata": {},
   "outputs": [],
   "source": [
    "#calculate mean rating across all ratings\n",
    "all_mean=ratings_train[['rating']].mean()\n",
    "all_m_test=ratings_test[['rating']].mean()"
   ]
  },
  {
   "cell_type": "code",
   "execution_count": 140,
   "metadata": {},
   "outputs": [],
   "source": [
    "#mean values\n",
    "ratings_train['all_mean']=all_mean.values[0]\n",
    "ratings_test['all_mean']=all_m_test.values[0]"
   ]
  },
  {
   "cell_type": "code",
   "execution_count": 141,
   "metadata": {},
   "outputs": [],
   "source": [
    "#baseline predictor\n",
    "ratings_train['baseline_pred']=(ratings_train['movie_avg']-ratings_train['all_mean'])+(ratings_train['user_avg']-ratings_train['all_mean'])+ratings_train['all_mean']\n",
    "ratings_test['baseline_pred']=(ratings_test['movie_avg']-ratings_test['all_mean'])+(ratings_test['user_avg']-ratings_test['all_mean'])+ratings_test['all_mean']"
   ]
  },
  {
   "cell_type": "code",
   "execution_count": 142,
   "metadata": {},
   "outputs": [],
   "source": [
    "#baseline error\n",
    "ratings_train['baseline_diff']=ratings_train['rating']-ratings_train['baseline_pred']\n",
    "ratings_test['baseline_diff']=ratings_test['rating']-ratings_test['baseline_pred']"
   ]
  },
  {
   "cell_type": "code",
   "execution_count": 143,
   "metadata": {},
   "outputs": [],
   "source": [
    "ratings_train['rating_std']=ratings_train['rating']-ratings_train['all_mean']\n",
    "ratings_test['rating_std']=ratings_test['rating']-ratings_test['all_mean']"
   ]
  },
  {
   "cell_type": "code",
   "execution_count": 144,
   "metadata": {},
   "outputs": [
    {
     "data": {
      "text/html": [
       "<div>\n",
       "<style scoped>\n",
       "    .dataframe tbody tr th:only-of-type {\n",
       "        vertical-align: middle;\n",
       "    }\n",
       "\n",
       "    .dataframe tbody tr th {\n",
       "        vertical-align: top;\n",
       "    }\n",
       "\n",
       "    .dataframe thead th {\n",
       "        text-align: right;\n",
       "    }\n",
       "</style>\n",
       "<table border=\"1\" class=\"dataframe\">\n",
       "  <thead>\n",
       "    <tr style=\"text-align: right;\">\n",
       "      <th></th>\n",
       "      <th>userId</th>\n",
       "      <th>movieId</th>\n",
       "      <th>rating</th>\n",
       "      <th>timestamp</th>\n",
       "      <th>user_avg</th>\n",
       "      <th>movie_avg</th>\n",
       "      <th>user_std</th>\n",
       "      <th>movie_std</th>\n",
       "      <th>all_mean</th>\n",
       "      <th>baseline_pred</th>\n",
       "      <th>baseline_diff</th>\n",
       "      <th>rating_std</th>\n",
       "    </tr>\n",
       "  </thead>\n",
       "  <tbody>\n",
       "    <tr>\n",
       "      <td>0</td>\n",
       "      <td>365</td>\n",
       "      <td>4054</td>\n",
       "      <td>0.5</td>\n",
       "      <td>1491088194</td>\n",
       "      <td>2.767016</td>\n",
       "      <td>3.041667</td>\n",
       "      <td>-2.267016</td>\n",
       "      <td>-2.541667</td>\n",
       "      <td>3.502996</td>\n",
       "      <td>2.305686</td>\n",
       "      <td>-1.805686</td>\n",
       "      <td>-3.002996</td>\n",
       "    </tr>\n",
       "    <tr>\n",
       "      <td>1</td>\n",
       "      <td>610</td>\n",
       "      <td>4054</td>\n",
       "      <td>2.0</td>\n",
       "      <td>1493849410</td>\n",
       "      <td>3.681769</td>\n",
       "      <td>3.041667</td>\n",
       "      <td>-1.681769</td>\n",
       "      <td>-1.041667</td>\n",
       "      <td>3.502996</td>\n",
       "      <td>3.220439</td>\n",
       "      <td>-1.220439</td>\n",
       "      <td>-1.502996</td>\n",
       "    </tr>\n",
       "    <tr>\n",
       "      <td>2</td>\n",
       "      <td>525</td>\n",
       "      <td>4054</td>\n",
       "      <td>3.0</td>\n",
       "      <td>1476476988</td>\n",
       "      <td>3.539437</td>\n",
       "      <td>3.041667</td>\n",
       "      <td>-0.539437</td>\n",
       "      <td>-0.041667</td>\n",
       "      <td>3.502996</td>\n",
       "      <td>3.078107</td>\n",
       "      <td>-0.078107</td>\n",
       "      <td>-0.502996</td>\n",
       "    </tr>\n",
       "    <tr>\n",
       "      <td>3</td>\n",
       "      <td>607</td>\n",
       "      <td>4054</td>\n",
       "      <td>3.0</td>\n",
       "      <td>997847173</td>\n",
       "      <td>3.772727</td>\n",
       "      <td>3.041667</td>\n",
       "      <td>-0.772727</td>\n",
       "      <td>-0.041667</td>\n",
       "      <td>3.502996</td>\n",
       "      <td>3.311398</td>\n",
       "      <td>-0.311398</td>\n",
       "      <td>-0.502996</td>\n",
       "    </tr>\n",
       "    <tr>\n",
       "      <td>4</td>\n",
       "      <td>182</td>\n",
       "      <td>4054</td>\n",
       "      <td>4.0</td>\n",
       "      <td>1063282404</td>\n",
       "      <td>3.513139</td>\n",
       "      <td>3.041667</td>\n",
       "      <td>0.486861</td>\n",
       "      <td>0.958333</td>\n",
       "      <td>3.502996</td>\n",
       "      <td>3.051809</td>\n",
       "      <td>0.948191</td>\n",
       "      <td>0.497004</td>\n",
       "    </tr>\n",
       "  </tbody>\n",
       "</table>\n",
       "</div>"
      ],
      "text/plain": [
       "   userId  movieId  rating   timestamp  user_avg  movie_avg  user_std  \\\n",
       "0     365     4054     0.5  1491088194  2.767016   3.041667 -2.267016   \n",
       "1     610     4054     2.0  1493849410  3.681769   3.041667 -1.681769   \n",
       "2     525     4054     3.0  1476476988  3.539437   3.041667 -0.539437   \n",
       "3     607     4054     3.0   997847173  3.772727   3.041667 -0.772727   \n",
       "4     182     4054     4.0  1063282404  3.513139   3.041667  0.486861   \n",
       "\n",
       "   movie_std  all_mean  baseline_pred  baseline_diff  rating_std  \n",
       "0  -2.541667  3.502996       2.305686      -1.805686   -3.002996  \n",
       "1  -1.041667  3.502996       3.220439      -1.220439   -1.502996  \n",
       "2  -0.041667  3.502996       3.078107      -0.078107   -0.502996  \n",
       "3  -0.041667  3.502996       3.311398      -0.311398   -0.502996  \n",
       "4   0.958333  3.502996       3.051809       0.948191    0.497004  "
      ]
     },
     "execution_count": 144,
     "metadata": {},
     "output_type": "execute_result"
    }
   ],
   "source": [
    "ratings_train.head(n=5)"
   ]
  },
  {
   "cell_type": "code",
   "execution_count": 145,
   "metadata": {},
   "outputs": [
    {
     "data": {
      "text/html": [
       "<div>\n",
       "<style scoped>\n",
       "    .dataframe tbody tr th:only-of-type {\n",
       "        vertical-align: middle;\n",
       "    }\n",
       "\n",
       "    .dataframe tbody tr th {\n",
       "        vertical-align: top;\n",
       "    }\n",
       "\n",
       "    .dataframe thead th {\n",
       "        text-align: right;\n",
       "    }\n",
       "</style>\n",
       "<table border=\"1\" class=\"dataframe\">\n",
       "  <thead>\n",
       "    <tr style=\"text-align: right;\">\n",
       "      <th></th>\n",
       "      <th>userId</th>\n",
       "      <th>movieId</th>\n",
       "      <th>rating</th>\n",
       "      <th>timestamp</th>\n",
       "      <th>user_avg</th>\n",
       "      <th>movie_avg</th>\n",
       "      <th>user_std</th>\n",
       "      <th>movie_std</th>\n",
       "      <th>all_mean</th>\n",
       "      <th>baseline_pred</th>\n",
       "      <th>baseline_diff</th>\n",
       "      <th>rating_std</th>\n",
       "    </tr>\n",
       "  </thead>\n",
       "  <tbody>\n",
       "    <tr>\n",
       "      <td>0</td>\n",
       "      <td>105</td>\n",
       "      <td>77455</td>\n",
       "      <td>5.0</td>\n",
       "      <td>1446610793</td>\n",
       "      <td>4.093254</td>\n",
       "      <td>4.500000</td>\n",
       "      <td>0.906746</td>\n",
       "      <td>0.500000</td>\n",
       "      <td>3.498198</td>\n",
       "      <td>5.095056</td>\n",
       "      <td>-0.095056</td>\n",
       "      <td>1.501802</td>\n",
       "    </tr>\n",
       "    <tr>\n",
       "      <td>1</td>\n",
       "      <td>414</td>\n",
       "      <td>77455</td>\n",
       "      <td>4.5</td>\n",
       "      <td>1511537140</td>\n",
       "      <td>3.405928</td>\n",
       "      <td>4.500000</td>\n",
       "      <td>1.094072</td>\n",
       "      <td>0.000000</td>\n",
       "      <td>3.498198</td>\n",
       "      <td>4.407729</td>\n",
       "      <td>0.092271</td>\n",
       "      <td>1.001802</td>\n",
       "    </tr>\n",
       "    <tr>\n",
       "      <td>2</td>\n",
       "      <td>152</td>\n",
       "      <td>77455</td>\n",
       "      <td>4.0</td>\n",
       "      <td>1450867906</td>\n",
       "      <td>4.119048</td>\n",
       "      <td>4.500000</td>\n",
       "      <td>-0.119048</td>\n",
       "      <td>-0.500000</td>\n",
       "      <td>3.498198</td>\n",
       "      <td>5.120849</td>\n",
       "      <td>-1.120849</td>\n",
       "      <td>0.501802</td>\n",
       "    </tr>\n",
       "    <tr>\n",
       "      <td>3</td>\n",
       "      <td>105</td>\n",
       "      <td>6537</td>\n",
       "      <td>3.5</td>\n",
       "      <td>1446573433</td>\n",
       "      <td>4.093254</td>\n",
       "      <td>3.111111</td>\n",
       "      <td>-0.593254</td>\n",
       "      <td>0.388889</td>\n",
       "      <td>3.498198</td>\n",
       "      <td>3.706167</td>\n",
       "      <td>-0.206167</td>\n",
       "      <td>0.001802</td>\n",
       "    </tr>\n",
       "    <tr>\n",
       "      <td>4</td>\n",
       "      <td>182</td>\n",
       "      <td>6537</td>\n",
       "      <td>0.5</td>\n",
       "      <td>1066331257</td>\n",
       "      <td>3.506849</td>\n",
       "      <td>3.111111</td>\n",
       "      <td>-3.006849</td>\n",
       "      <td>-2.611111</td>\n",
       "      <td>3.498198</td>\n",
       "      <td>3.119762</td>\n",
       "      <td>-2.619762</td>\n",
       "      <td>-2.998198</td>\n",
       "    </tr>\n",
       "  </tbody>\n",
       "</table>\n",
       "</div>"
      ],
      "text/plain": [
       "   userId  movieId  rating   timestamp  user_avg  movie_avg  user_std  \\\n",
       "0     105    77455     5.0  1446610793  4.093254   4.500000  0.906746   \n",
       "1     414    77455     4.5  1511537140  3.405928   4.500000  1.094072   \n",
       "2     152    77455     4.0  1450867906  4.119048   4.500000 -0.119048   \n",
       "3     105     6537     3.5  1446573433  4.093254   3.111111 -0.593254   \n",
       "4     182     6537     0.5  1066331257  3.506849   3.111111 -3.006849   \n",
       "\n",
       "   movie_std  all_mean  baseline_pred  baseline_diff  rating_std  \n",
       "0   0.500000  3.498198       5.095056      -0.095056    1.501802  \n",
       "1   0.000000  3.498198       4.407729       0.092271    1.001802  \n",
       "2  -0.500000  3.498198       5.120849      -1.120849    0.501802  \n",
       "3   0.388889  3.498198       3.706167      -0.206167    0.001802  \n",
       "4  -2.611111  3.498198       3.119762      -2.619762   -2.998198  "
      ]
     },
     "execution_count": 145,
     "metadata": {},
     "output_type": "execute_result"
    }
   ],
   "source": [
    "ratings_test.head()"
   ]
  },
  {
   "cell_type": "markdown",
   "metadata": {},
   "source": [
    "#### 3. Estimate Ratings using ALS "
   ]
  },
  {
   "cell_type": "markdown",
   "metadata": {},
   "source": [
    "##### 3.1 Develop Item-Item, User-User and Baseline matrices"
   ]
  },
  {
   "cell_type": "code",
   "execution_count": 146,
   "metadata": {},
   "outputs": [],
   "source": [
    "#item-item matrix\n",
    "rs_item=ratings_train[['userId','movieId','movie_std']].pivot(index='movieId', columns='userId',values='movie_std')"
   ]
  },
  {
   "cell_type": "code",
   "execution_count": 147,
   "metadata": {},
   "outputs": [
    {
     "data": {
      "text/html": [
       "<div>\n",
       "<style scoped>\n",
       "    .dataframe tbody tr th:only-of-type {\n",
       "        vertical-align: middle;\n",
       "    }\n",
       "\n",
       "    .dataframe tbody tr th {\n",
       "        vertical-align: top;\n",
       "    }\n",
       "\n",
       "    .dataframe thead th {\n",
       "        text-align: right;\n",
       "    }\n",
       "</style>\n",
       "<table border=\"1\" class=\"dataframe\">\n",
       "  <thead>\n",
       "    <tr style=\"text-align: right;\">\n",
       "      <th>userId</th>\n",
       "      <th>1</th>\n",
       "      <th>2</th>\n",
       "      <th>3</th>\n",
       "      <th>4</th>\n",
       "      <th>5</th>\n",
       "      <th>6</th>\n",
       "      <th>7</th>\n",
       "      <th>8</th>\n",
       "      <th>9</th>\n",
       "      <th>10</th>\n",
       "      <th>...</th>\n",
       "      <th>601</th>\n",
       "      <th>602</th>\n",
       "      <th>603</th>\n",
       "      <th>604</th>\n",
       "      <th>605</th>\n",
       "      <th>606</th>\n",
       "      <th>607</th>\n",
       "      <th>608</th>\n",
       "      <th>609</th>\n",
       "      <th>610</th>\n",
       "    </tr>\n",
       "    <tr>\n",
       "      <th>movieId</th>\n",
       "      <th></th>\n",
       "      <th></th>\n",
       "      <th></th>\n",
       "      <th></th>\n",
       "      <th></th>\n",
       "      <th></th>\n",
       "      <th></th>\n",
       "      <th></th>\n",
       "      <th></th>\n",
       "      <th></th>\n",
       "      <th></th>\n",
       "      <th></th>\n",
       "      <th></th>\n",
       "      <th></th>\n",
       "      <th></th>\n",
       "      <th></th>\n",
       "      <th></th>\n",
       "      <th></th>\n",
       "      <th></th>\n",
       "      <th></th>\n",
       "      <th></th>\n",
       "    </tr>\n",
       "  </thead>\n",
       "  <tbody>\n",
       "    <tr>\n",
       "      <td>1</td>\n",
       "      <td>0.103333</td>\n",
       "      <td>NaN</td>\n",
       "      <td>NaN</td>\n",
       "      <td>NaN</td>\n",
       "      <td>0.103333</td>\n",
       "      <td>NaN</td>\n",
       "      <td>0.603333</td>\n",
       "      <td>NaN</td>\n",
       "      <td>NaN</td>\n",
       "      <td>NaN</td>\n",
       "      <td>...</td>\n",
       "      <td>0.103333</td>\n",
       "      <td>NaN</td>\n",
       "      <td>NaN</td>\n",
       "      <td>-0.896667</td>\n",
       "      <td>0.103333</td>\n",
       "      <td>NaN</td>\n",
       "      <td>0.103333</td>\n",
       "      <td>-1.396667</td>\n",
       "      <td>-0.896667</td>\n",
       "      <td>1.103333</td>\n",
       "    </tr>\n",
       "    <tr>\n",
       "      <td>2</td>\n",
       "      <td>NaN</td>\n",
       "      <td>NaN</td>\n",
       "      <td>NaN</td>\n",
       "      <td>NaN</td>\n",
       "      <td>NaN</td>\n",
       "      <td>0.569620</td>\n",
       "      <td>NaN</td>\n",
       "      <td>0.56962</td>\n",
       "      <td>NaN</td>\n",
       "      <td>NaN</td>\n",
       "      <td>...</td>\n",
       "      <td>NaN</td>\n",
       "      <td>NaN</td>\n",
       "      <td>NaN</td>\n",
       "      <td>1.569620</td>\n",
       "      <td>0.069620</td>\n",
       "      <td>NaN</td>\n",
       "      <td>NaN</td>\n",
       "      <td>-1.430380</td>\n",
       "      <td>NaN</td>\n",
       "      <td>NaN</td>\n",
       "    </tr>\n",
       "    <tr>\n",
       "      <td>3</td>\n",
       "      <td>0.712121</td>\n",
       "      <td>NaN</td>\n",
       "      <td>NaN</td>\n",
       "      <td>NaN</td>\n",
       "      <td>NaN</td>\n",
       "      <td>NaN</td>\n",
       "      <td>NaN</td>\n",
       "      <td>NaN</td>\n",
       "      <td>NaN</td>\n",
       "      <td>NaN</td>\n",
       "      <td>...</td>\n",
       "      <td>NaN</td>\n",
       "      <td>NaN</td>\n",
       "      <td>NaN</td>\n",
       "      <td>NaN</td>\n",
       "      <td>NaN</td>\n",
       "      <td>NaN</td>\n",
       "      <td>NaN</td>\n",
       "      <td>-1.287879</td>\n",
       "      <td>NaN</td>\n",
       "      <td>NaN</td>\n",
       "    </tr>\n",
       "    <tr>\n",
       "      <td>4</td>\n",
       "      <td>NaN</td>\n",
       "      <td>NaN</td>\n",
       "      <td>NaN</td>\n",
       "      <td>NaN</td>\n",
       "      <td>NaN</td>\n",
       "      <td>0.642857</td>\n",
       "      <td>NaN</td>\n",
       "      <td>NaN</td>\n",
       "      <td>NaN</td>\n",
       "      <td>NaN</td>\n",
       "      <td>...</td>\n",
       "      <td>NaN</td>\n",
       "      <td>NaN</td>\n",
       "      <td>NaN</td>\n",
       "      <td>NaN</td>\n",
       "      <td>NaN</td>\n",
       "      <td>NaN</td>\n",
       "      <td>NaN</td>\n",
       "      <td>NaN</td>\n",
       "      <td>NaN</td>\n",
       "      <td>NaN</td>\n",
       "    </tr>\n",
       "    <tr>\n",
       "      <td>5</td>\n",
       "      <td>NaN</td>\n",
       "      <td>NaN</td>\n",
       "      <td>NaN</td>\n",
       "      <td>NaN</td>\n",
       "      <td>NaN</td>\n",
       "      <td>NaN</td>\n",
       "      <td>NaN</td>\n",
       "      <td>NaN</td>\n",
       "      <td>NaN</td>\n",
       "      <td>NaN</td>\n",
       "      <td>...</td>\n",
       "      <td>NaN</td>\n",
       "      <td>NaN</td>\n",
       "      <td>NaN</td>\n",
       "      <td>NaN</td>\n",
       "      <td>NaN</td>\n",
       "      <td>NaN</td>\n",
       "      <td>NaN</td>\n",
       "      <td>NaN</td>\n",
       "      <td>NaN</td>\n",
       "      <td>NaN</td>\n",
       "    </tr>\n",
       "  </tbody>\n",
       "</table>\n",
       "<p>5 rows × 610 columns</p>\n",
       "</div>"
      ],
      "text/plain": [
       "userId        1    2    3    4         5         6         7        8    9    \\\n",
       "movieId                                                                        \n",
       "1        0.103333  NaN  NaN  NaN  0.103333       NaN  0.603333      NaN  NaN   \n",
       "2             NaN  NaN  NaN  NaN       NaN  0.569620       NaN  0.56962  NaN   \n",
       "3        0.712121  NaN  NaN  NaN       NaN       NaN       NaN      NaN  NaN   \n",
       "4             NaN  NaN  NaN  NaN       NaN  0.642857       NaN      NaN  NaN   \n",
       "5             NaN  NaN  NaN  NaN       NaN       NaN       NaN      NaN  NaN   \n",
       "\n",
       "userId   10   ...       601  602  603       604       605  606       607  \\\n",
       "movieId       ...                                                          \n",
       "1        NaN  ...  0.103333  NaN  NaN -0.896667  0.103333  NaN  0.103333   \n",
       "2        NaN  ...       NaN  NaN  NaN  1.569620  0.069620  NaN       NaN   \n",
       "3        NaN  ...       NaN  NaN  NaN       NaN       NaN  NaN       NaN   \n",
       "4        NaN  ...       NaN  NaN  NaN       NaN       NaN  NaN       NaN   \n",
       "5        NaN  ...       NaN  NaN  NaN       NaN       NaN  NaN       NaN   \n",
       "\n",
       "userId        608       609       610  \n",
       "movieId                                \n",
       "1       -1.396667 -0.896667  1.103333  \n",
       "2       -1.430380       NaN       NaN  \n",
       "3       -1.287879       NaN       NaN  \n",
       "4             NaN       NaN       NaN  \n",
       "5             NaN       NaN       NaN  \n",
       "\n",
       "[5 rows x 610 columns]"
      ]
     },
     "execution_count": 147,
     "metadata": {},
     "output_type": "execute_result"
    }
   ],
   "source": [
    "rs_item.head()"
   ]
  },
  {
   "cell_type": "code",
   "execution_count": 148,
   "metadata": {},
   "outputs": [],
   "source": [
    "rs_item=rs_item.replace(nan,0)"
   ]
  },
  {
   "cell_type": "code",
   "execution_count": 149,
   "metadata": {},
   "outputs": [],
   "source": [
    "#user-user matrix\n",
    "rs_user=ratings_train[['userId','movieId','user_std']].pivot(index='movieId', columns='userId',values='user_std')"
   ]
  },
  {
   "cell_type": "code",
   "execution_count": 150,
   "metadata": {},
   "outputs": [],
   "source": [
    "rs_user=rs_user.replace(nan,0)"
   ]
  },
  {
   "cell_type": "code",
   "execution_count": 151,
   "metadata": {},
   "outputs": [],
   "source": [
    "#baseline matrix\n",
    "rs_base=ratings_train[['userId','movieId','baseline_diff']].pivot(index='movieId', columns='userId',values='baseline_diff')"
   ]
  },
  {
   "cell_type": "code",
   "execution_count": 152,
   "metadata": {},
   "outputs": [],
   "source": [
    "rs_base=rs_base.replace(nan,0)"
   ]
  },
  {
   "cell_type": "markdown",
   "metadata": {},
   "source": [
    "##### 3.2 Define ALS Function"
   ]
  },
  {
   "cell_type": "code",
   "execution_count": 193,
   "metadata": {},
   "outputs": [],
   "source": [
    "def runALS(A, R, n_factors, n_iterations, lambda_):\n",
    "    '''\n",
    "    Runs Alternating Least Squares algorithm in order to calculate matrix.\n",
    "    :param A: User-Item Matrix with ratings\n",
    "    :param R: User-Item Matrix with 1 if there is a rating or 0 if not\n",
    "    :param n_factors: How many factors each of user and item matrix will consider\n",
    "    :param n_iterations: How many times to run algorithm\n",
    "    :param lambda_: Regularization parameter\n",
    "    :return:\n",
    "    '''\n",
    "    print(\"Initiating \")\n",
    "    #lambda_ = 0.1; n_factors = 3; n_iterations = 20\n",
    "    n, m = A.shape\n",
    "    np.random.seed(1245)\n",
    "    Users = 5 * np.random.rand(n, n_factors)\n",
    "    Items = 5 * np.random.rand(n_factors, m)\n",
    "\n",
    "    def get_error(A, Users, Items, R):\n",
    "        # This calculates the MSE of nonzero elements\n",
    "        return np.sum((R * (A - np.dot(Users, Items))) ** 2) / np.sum(R)\n",
    "\n",
    "    MSE_List = []\n",
    "\n",
    "    print(\"Starting Iterations\")\n",
    "    for iter in range(n_iterations):\n",
    "        for i, Ri in enumerate(R):\n",
    "            Users[i] = np.linalg.solve(np.dot(Items, np.dot(np.diag(Ri), Items.T)) + lambda_ * np.eye(n_factors),\n",
    "                                       np.dot(Items, np.dot(np.diag(Ri), A[i].T))).T\n",
    "        print(\"Error after solving for User Matrix:\", get_error(A, Users, Items, R))\n",
    "\n",
    "        for j, Rj in enumerate(R.T):\n",
    "            Items[:,j] = np.linalg.solve(np.dot(Users.T, np.dot(np.diag(Rj), Users)) + lambda_ * np.eye(n_factors),\n",
    "                                     np.dot(Users.T, np.dot(np.diag(Rj), A[:, j])))\n",
    "        print(\"Error after solving for Item Matrix:\", get_error(A, Users, Items, R))\n",
    "\n",
    "        MSE_List.append(get_error(A, Users, Items, R))\n",
    "        print ('%sth iteration is complete...' % iter)\n",
    "\n",
    "    print (MSE_List)\n",
    "    fig = plt.figure()\n",
    "    ax = fig.add_subplot(111)\n",
    "    plt.plot(range(1, len(MSE_List) + 1), MSE_List); plt.ylabel('Error'); plt.xlabel('Iteration')\n",
    "    plt.title('Python Implementation MSE by Iteration \\n with %d users and %d movies' % A.shape);\n",
    "    plt.show()\n",
    "    #print(MSE_List[len(MSE_List)-1])\n",
    "    return np.dot(Users, Items),MSE_List[len(MSE_List)-1],Items"
   ]
  },
  {
   "cell_type": "code",
   "execution_count": 154,
   "metadata": {},
   "outputs": [],
   "source": [
    "#setup missing ratings matrix\n",
    "R_mat=rs_item.copy()"
   ]
  },
  {
   "cell_type": "code",
   "execution_count": 155,
   "metadata": {},
   "outputs": [],
   "source": [
    "s=R_mat==0"
   ]
  },
  {
   "cell_type": "code",
   "execution_count": 156,
   "metadata": {},
   "outputs": [],
   "source": [
    "R_mat=R_mat.where(s,1)"
   ]
  },
  {
   "cell_type": "markdown",
   "metadata": {},
   "source": [
    "**1. Initial run for Alternating least squares model, with 3 factors and 5 iterations**"
   ]
  },
  {
   "cell_type": "code",
   "execution_count": 194,
   "metadata": {},
   "outputs": [
    {
     "name": "stdout",
     "output_type": "stream",
     "text": [
      "Initiating \n",
      "Starting Iterations\n",
      "Error after solving for User Matrix: 0.6455453390413097\n",
      "Error after solving for Item Matrix: 0.6028545653804169\n",
      "0th iteration is complete...\n",
      "Error after solving for User Matrix: 0.5544579184235178\n",
      "Error after solving for Item Matrix: 0.5301250973068459\n",
      "1th iteration is complete...\n",
      "Error after solving for User Matrix: 0.5098564532029477\n",
      "Error after solving for Item Matrix: 0.502121550505722\n",
      "2th iteration is complete...\n",
      "Error after solving for User Matrix: 0.48988348080556693\n",
      "Error after solving for Item Matrix: 0.4862125313148266\n",
      "3th iteration is complete...\n",
      "Error after solving for User Matrix: 0.47787839220475514\n",
      "Error after solving for Item Matrix: 0.47565660098458024\n",
      "4th iteration is complete...\n",
      "[0.6028545653804169, 0.5301250973068459, 0.502121550505722, 0.4862125313148266, 0.47565660098458024]\n"
     ]
    },
    {
     "data": {
      "image/png": "[encoded data removed]",
      "text/plain": [
       "<Figure size 432x288 with 1 Axes>"
      ]
     },
     "metadata": {
      "needs_background": "light"
     },
     "output_type": "display_data"
    }
   ],
   "source": [
    "sol,err,itm=runALS(rs_item.T.to_numpy(),R_mat.T.to_numpy(),3,5,0.1)"
   ]
  },
  {
   "cell_type": "markdown",
   "metadata": {},
   "source": [
    "**2. Increase the number of factors and the number of iterations**"
   ]
  },
  {
   "cell_type": "code",
   "execution_count": 158,
   "metadata": {},
   "outputs": [
    {
     "name": "stdout",
     "output_type": "stream",
     "text": [
      "Initiating \n",
      "Starting Iterations\n",
      "Error after solving for User Matrix: 0.626508666836017\n",
      "Error after solving for Item Matrix: 0.5760526572396821\n",
      "0th iteration is complete...\n",
      "Error after solving for User Matrix: 0.5012193228739666\n",
      "Error after solving for Item Matrix: 0.4581600930904606\n",
      "1th iteration is complete...\n",
      "Error after solving for User Matrix: 0.42869650931409053\n",
      "Error after solving for Item Matrix: 0.4176834206568633\n",
      "2th iteration is complete...\n",
      "Error after solving for User Matrix: 0.4008670438027791\n",
      "Error after solving for Item Matrix: 0.3959441854172196\n",
      "3th iteration is complete...\n",
      "Error after solving for User Matrix: 0.3849064837402614\n",
      "Error after solving for Item Matrix: 0.3822432405551453\n",
      "4th iteration is complete...\n",
      "Error after solving for User Matrix: 0.3743799664489436\n",
      "Error after solving for Item Matrix: 0.37271119873642944\n",
      "5th iteration is complete...\n",
      "Error after solving for User Matrix: 0.3667455168121528\n",
      "Error after solving for Item Matrix: 0.3655697294627431\n",
      "6th iteration is complete...\n",
      "[0.5760526572396821, 0.4581600930904606, 0.4176834206568633, 0.3959441854172196, 0.3822432405551453, 0.37271119873642944, 0.3655697294627431]\n"
     ]
    },
    {
     "data": {
      "image/png": "[encoded data removed]",
      "text/plain": [
       "<Figure size 432x288 with 1 Axes>"
      ]
     },
     "metadata": {
      "needs_background": "light"
     },
     "output_type": "display_data"
    }
   ],
   "source": [
    "sol1,err1=runALS(rs_item.T.to_numpy(),R_mat.T.to_numpy(),5,7,0.1)"
   ]
  },
  {
   "cell_type": "markdown",
   "metadata": {},
   "source": [
    "**3. Increase lambda, the regularization factor**"
   ]
  },
  {
   "cell_type": "code",
   "execution_count": 159,
   "metadata": {},
   "outputs": [
    {
     "name": "stdout",
     "output_type": "stream",
     "text": [
      "Initiating \n",
      "Starting Iterations\n",
      "Error after solving for User Matrix: 0.6265109867338874\n",
      "Error after solving for Item Matrix: 0.6452974627628165\n",
      "0th iteration is complete...\n",
      "Error after solving for User Matrix: 0.54002036980984\n",
      "Error after solving for Item Matrix: 0.4745393723523029\n",
      "1th iteration is complete...\n",
      "Error after solving for User Matrix: 0.44001171715065407\n",
      "Error after solving for Item Matrix: 0.42621040184139236\n",
      "2th iteration is complete...\n",
      "Error after solving for User Matrix: 0.40697261632717496\n",
      "Error after solving for Item Matrix: 0.4012968625339872\n",
      "3th iteration is complete...\n",
      "Error after solving for User Matrix: 0.38882654663179944\n",
      "Error after solving for Item Matrix: 0.38607935275067107\n",
      "4th iteration is complete...\n",
      "Error after solving for User Matrix: 0.3772984190171863\n",
      "Error after solving for Item Matrix: 0.3757646856168698\n",
      "5th iteration is complete...\n",
      "Error after solving for User Matrix: 0.3691762469675576\n",
      "Error after solving for Item Matrix: 0.3682176701866955\n",
      "6th iteration is complete...\n",
      "[0.6452974627628165, 0.4745393723523029, 0.42621040184139236, 0.4012968625339872, 0.38607935275067107, 0.3757646856168698, 0.3682176701866955]\n"
     ]
    },
    {
     "data": {
      "image/png": "[encoded data removed]",
      "text/plain": [
       "<Figure size 432x288 with 1 Axes>"
      ]
     },
     "metadata": {
      "needs_background": "light"
     },
     "output_type": "display_data"
    }
   ],
   "source": [
    "sol2,err2=runALS(rs_item.T.to_numpy(),R_mat.T.to_numpy(),5,7,0.3)"
   ]
  },
  {
   "cell_type": "markdown",
   "metadata": {},
   "source": [
    "**4. ALS solution with 10 factors**"
   ]
  },
  {
   "cell_type": "code",
   "execution_count": 160,
   "metadata": {},
   "outputs": [
    {
     "name": "stdout",
     "output_type": "stream",
     "text": [
      "Initiating \n",
      "Starting Iterations\n",
      "Error after solving for User Matrix: 0.5897601682515922\n",
      "Error after solving for Item Matrix: 0.5283873998068311\n",
      "0th iteration is complete...\n",
      "Error after solving for User Matrix: 0.406373433451931\n",
      "Error after solving for Item Matrix: 0.33958081513706023\n",
      "1th iteration is complete...\n",
      "Error after solving for User Matrix: 0.300745304412506\n",
      "Error after solving for Item Matrix: 0.28772693662074683\n",
      "2th iteration is complete...\n",
      "Error after solving for User Matrix: 0.26633362364015195\n",
      "Error after solving for Item Matrix: 0.26083840172405215\n",
      "3th iteration is complete...\n",
      "Error after solving for User Matrix: 0.2469231392116781\n",
      "Error after solving for Item Matrix: 0.2439286384454305\n",
      "4th iteration is complete...\n",
      "[0.5283873998068311, 0.33958081513706023, 0.28772693662074683, 0.26083840172405215, 0.2439286384454305]\n"
     ]
    },
    {
     "data": {
      "image/png": "[encoded data removed]",
      "text/plain": [
       "<Figure size 432x288 with 1 Axes>"
      ]
     },
     "metadata": {
      "needs_background": "light"
     },
     "output_type": "display_data"
    }
   ],
   "source": [
    "sol3,err3=runALS(rs_item.T.to_numpy(),R_mat.T.to_numpy(),10,5,0.1)"
   ]
  },
  {
   "cell_type": "markdown",
   "metadata": {},
   "source": [
    "**5. ALS solution with 15 factors**"
   ]
  },
  {
   "cell_type": "code",
   "execution_count": 161,
   "metadata": {},
   "outputs": [
    {
     "name": "stdout",
     "output_type": "stream",
     "text": [
      "Initiating \n",
      "Starting Iterations\n",
      "Error after solving for User Matrix: 0.5513926755174404\n",
      "Error after solving for Item Matrix: 0.4761901660600764\n",
      "0th iteration is complete...\n",
      "Error after solving for User Matrix: 0.33005355060461766\n",
      "Error after solving for Item Matrix: 0.25256581537377043\n",
      "1th iteration is complete...\n",
      "Error after solving for User Matrix: 0.2110688402538099\n",
      "Error after solving for Item Matrix: 0.19995272945078166\n",
      "2th iteration is complete...\n",
      "Error after solving for User Matrix: 0.1784058443882267\n",
      "Error after solving for Item Matrix: 0.1745261149226838\n",
      "3th iteration is complete...\n",
      "Error after solving for User Matrix: 0.16092158733069448\n",
      "Error after solving for Item Matrix: 0.15908671504942576\n",
      "4th iteration is complete...\n",
      "[0.4761901660600764, 0.25256581537377043, 0.19995272945078166, 0.1745261149226838, 0.15908671504942576]\n"
     ]
    },
    {
     "data": {
      "image/png": "[encoded data removed]",
      "text/plain": [
       "<Figure size 432x288 with 1 Axes>"
      ]
     },
     "metadata": {
      "needs_background": "light"
     },
     "output_type": "display_data"
    }
   ],
   "source": [
    "sol4,err4=runALS(rs_item.T.to_numpy(),R_mat.T.to_numpy(),15,5,0.1)"
   ]
  },
  {
   "cell_type": "code",
   "execution_count": 164,
   "metadata": {},
   "outputs": [
    {
     "data": {
      "text/plain": [
       "(610, 8537)"
      ]
     },
     "execution_count": 164,
     "metadata": {},
     "output_type": "execute_result"
    }
   ],
   "source": [
    "sol4.shape"
   ]
  },
  {
   "cell_type": "code",
   "execution_count": 191,
   "metadata": {},
   "outputs": [
    {
     "data": {
      "text/plain": [
       "0.15908671504942576"
      ]
     },
     "execution_count": 191,
     "metadata": {},
     "output_type": "execute_result"
    }
   ],
   "source": [
    "err4"
   ]
  },
  {
   "cell_type": "markdown",
   "metadata": {},
   "source": [
    "### 3.3 Assess Performance using MSE"
   ]
  },
  {
   "cell_type": "code",
   "execution_count": 312,
   "metadata": {},
   "outputs": [],
   "source": [
    "#convert the results from arrays to dataframes\n",
    "Si=pd.DataFrame(sol.T,index=rs_item.index,columns=rs_item.columns)\n",
    "Si1=pd.DataFrame(sol1.T,index=rs_item.index,columns=rs_item.columns)\n",
    "Si2=pd.DataFrame(sol2.T,index=rs_item.index,columns=rs_item.columns)\n",
    "Si3=pd.DataFrame(sol3.T,index=rs_item.index,columns=rs_item.columns)\n",
    "Si4=pd.DataFrame(sol4.T,index=rs_item.index,columns=rs_item.columns)"
   ]
  },
  {
   "cell_type": "code",
   "execution_count": 313,
   "metadata": {},
   "outputs": [],
   "source": [
    "Si['movieId']=Si.index\n",
    "Si1['movieId']=Si1.index\n",
    "Si2['movieId']=Si2.index\n",
    "Si3['movieId']=Si3.index\n",
    "Si4['movieId']=Si4.index"
   ]
  },
  {
   "cell_type": "code",
   "execution_count": 314,
   "metadata": {},
   "outputs": [
    {
     "data": {
      "text/html": [
       "<div>\n",
       "<style scoped>\n",
       "    .dataframe tbody tr th:only-of-type {\n",
       "        vertical-align: middle;\n",
       "    }\n",
       "\n",
       "    .dataframe tbody tr th {\n",
       "        vertical-align: top;\n",
       "    }\n",
       "\n",
       "    .dataframe thead th {\n",
       "        text-align: right;\n",
       "    }\n",
       "</style>\n",
       "<table border=\"1\" class=\"dataframe\">\n",
       "  <thead>\n",
       "    <tr style=\"text-align: right;\">\n",
       "      <th>userId</th>\n",
       "      <th>1</th>\n",
       "      <th>2</th>\n",
       "      <th>3</th>\n",
       "      <th>4</th>\n",
       "      <th>5</th>\n",
       "      <th>6</th>\n",
       "      <th>7</th>\n",
       "      <th>8</th>\n",
       "      <th>9</th>\n",
       "      <th>10</th>\n",
       "      <th>...</th>\n",
       "      <th>602</th>\n",
       "      <th>603</th>\n",
       "      <th>604</th>\n",
       "      <th>605</th>\n",
       "      <th>606</th>\n",
       "      <th>607</th>\n",
       "      <th>608</th>\n",
       "      <th>609</th>\n",
       "      <th>610</th>\n",
       "      <th>movieId</th>\n",
       "    </tr>\n",
       "    <tr>\n",
       "      <th>movieId</th>\n",
       "      <th></th>\n",
       "      <th></th>\n",
       "      <th></th>\n",
       "      <th></th>\n",
       "      <th></th>\n",
       "      <th></th>\n",
       "      <th></th>\n",
       "      <th></th>\n",
       "      <th></th>\n",
       "      <th></th>\n",
       "      <th></th>\n",
       "      <th></th>\n",
       "      <th></th>\n",
       "      <th></th>\n",
       "      <th></th>\n",
       "      <th></th>\n",
       "      <th></th>\n",
       "      <th></th>\n",
       "      <th></th>\n",
       "      <th></th>\n",
       "      <th></th>\n",
       "    </tr>\n",
       "  </thead>\n",
       "  <tbody>\n",
       "    <tr>\n",
       "      <td>1</td>\n",
       "      <td>0.753619</td>\n",
       "      <td>-0.705337</td>\n",
       "      <td>0.252748</td>\n",
       "      <td>-1.394240</td>\n",
       "      <td>0.372122</td>\n",
       "      <td>0.887585</td>\n",
       "      <td>0.344820</td>\n",
       "      <td>0.230204</td>\n",
       "      <td>1.185157</td>\n",
       "      <td>-1.102065</td>\n",
       "      <td>...</td>\n",
       "      <td>-0.017024</td>\n",
       "      <td>0.044111</td>\n",
       "      <td>-0.755577</td>\n",
       "      <td>0.756776</td>\n",
       "      <td>-0.480030</td>\n",
       "      <td>0.805103</td>\n",
       "      <td>-1.046906</td>\n",
       "      <td>-0.736019</td>\n",
       "      <td>0.330465</td>\n",
       "      <td>1</td>\n",
       "    </tr>\n",
       "    <tr>\n",
       "      <td>2</td>\n",
       "      <td>1.187946</td>\n",
       "      <td>-3.207309</td>\n",
       "      <td>-1.733502</td>\n",
       "      <td>-0.770349</td>\n",
       "      <td>-0.204257</td>\n",
       "      <td>0.248144</td>\n",
       "      <td>0.445033</td>\n",
       "      <td>0.217477</td>\n",
       "      <td>0.265935</td>\n",
       "      <td>0.080081</td>\n",
       "      <td>...</td>\n",
       "      <td>0.584384</td>\n",
       "      <td>-1.018585</td>\n",
       "      <td>0.755547</td>\n",
       "      <td>0.323967</td>\n",
       "      <td>0.278451</td>\n",
       "      <td>0.008801</td>\n",
       "      <td>-0.763426</td>\n",
       "      <td>-1.360877</td>\n",
       "      <td>-0.009662</td>\n",
       "      <td>2</td>\n",
       "    </tr>\n",
       "    <tr>\n",
       "      <td>3</td>\n",
       "      <td>0.802776</td>\n",
       "      <td>-0.462291</td>\n",
       "      <td>1.375550</td>\n",
       "      <td>0.220740</td>\n",
       "      <td>-0.130048</td>\n",
       "      <td>1.018230</td>\n",
       "      <td>-1.724141</td>\n",
       "      <td>-1.018147</td>\n",
       "      <td>1.953403</td>\n",
       "      <td>-0.891266</td>\n",
       "      <td>...</td>\n",
       "      <td>-0.679933</td>\n",
       "      <td>-0.277292</td>\n",
       "      <td>-0.364386</td>\n",
       "      <td>0.407958</td>\n",
       "      <td>0.639041</td>\n",
       "      <td>0.555473</td>\n",
       "      <td>-0.751290</td>\n",
       "      <td>-1.374761</td>\n",
       "      <td>-0.542871</td>\n",
       "      <td>3</td>\n",
       "    </tr>\n",
       "    <tr>\n",
       "      <td>4</td>\n",
       "      <td>0.689341</td>\n",
       "      <td>0.672487</td>\n",
       "      <td>-0.514891</td>\n",
       "      <td>0.625200</td>\n",
       "      <td>0.237187</td>\n",
       "      <td>0.570488</td>\n",
       "      <td>-0.891227</td>\n",
       "      <td>0.105835</td>\n",
       "      <td>0.726230</td>\n",
       "      <td>-0.216636</td>\n",
       "      <td>...</td>\n",
       "      <td>-1.119336</td>\n",
       "      <td>0.076900</td>\n",
       "      <td>0.125139</td>\n",
       "      <td>-0.415315</td>\n",
       "      <td>-0.206485</td>\n",
       "      <td>0.169121</td>\n",
       "      <td>-0.408882</td>\n",
       "      <td>0.192373</td>\n",
       "      <td>0.151764</td>\n",
       "      <td>4</td>\n",
       "    </tr>\n",
       "    <tr>\n",
       "      <td>5</td>\n",
       "      <td>0.455546</td>\n",
       "      <td>1.095226</td>\n",
       "      <td>0.272848</td>\n",
       "      <td>1.426614</td>\n",
       "      <td>-1.652200</td>\n",
       "      <td>0.733049</td>\n",
       "      <td>-0.643766</td>\n",
       "      <td>-2.146351</td>\n",
       "      <td>1.232726</td>\n",
       "      <td>0.592010</td>\n",
       "      <td>...</td>\n",
       "      <td>-0.965126</td>\n",
       "      <td>-1.272073</td>\n",
       "      <td>-0.262556</td>\n",
       "      <td>-0.705597</td>\n",
       "      <td>0.340969</td>\n",
       "      <td>-0.925381</td>\n",
       "      <td>-1.193374</td>\n",
       "      <td>0.612947</td>\n",
       "      <td>-0.441734</td>\n",
       "      <td>5</td>\n",
       "    </tr>\n",
       "  </tbody>\n",
       "</table>\n",
       "<p>5 rows × 611 columns</p>\n",
       "</div>"
      ],
      "text/plain": [
       "userId          1         2         3         4         5         6         7  \\\n",
       "movieId                                                                         \n",
       "1        0.753619 -0.705337  0.252748 -1.394240  0.372122  0.887585  0.344820   \n",
       "2        1.187946 -3.207309 -1.733502 -0.770349 -0.204257  0.248144  0.445033   \n",
       "3        0.802776 -0.462291  1.375550  0.220740 -0.130048  1.018230 -1.724141   \n",
       "4        0.689341  0.672487 -0.514891  0.625200  0.237187  0.570488 -0.891227   \n",
       "5        0.455546  1.095226  0.272848  1.426614 -1.652200  0.733049 -0.643766   \n",
       "\n",
       "userId          8         9        10  ...       602       603       604  \\\n",
       "movieId                                ...                                 \n",
       "1        0.230204  1.185157 -1.102065  ... -0.017024  0.044111 -0.755577   \n",
       "2        0.217477  0.265935  0.080081  ...  0.584384 -1.018585  0.755547   \n",
       "3       -1.018147  1.953403 -0.891266  ... -0.679933 -0.277292 -0.364386   \n",
       "4        0.105835  0.726230 -0.216636  ... -1.119336  0.076900  0.125139   \n",
       "5       -2.146351  1.232726  0.592010  ... -0.965126 -1.272073 -0.262556   \n",
       "\n",
       "userId        605       606       607       608       609       610  movieId  \n",
       "movieId                                                                       \n",
       "1        0.756776 -0.480030  0.805103 -1.046906 -0.736019  0.330465        1  \n",
       "2        0.323967  0.278451  0.008801 -0.763426 -1.360877 -0.009662        2  \n",
       "3        0.407958  0.639041  0.555473 -0.751290 -1.374761 -0.542871        3  \n",
       "4       -0.415315 -0.206485  0.169121 -0.408882  0.192373  0.151764        4  \n",
       "5       -0.705597  0.340969 -0.925381 -1.193374  0.612947 -0.441734        5  \n",
       "\n",
       "[5 rows x 611 columns]"
      ]
     },
     "execution_count": 314,
     "metadata": {},
     "output_type": "execute_result"
    }
   ],
   "source": [
    "Si4.head()"
   ]
  },
  {
   "cell_type": "code",
   "execution_count": 315,
   "metadata": {},
   "outputs": [],
   "source": [
    "#reshape the dataframes\n",
    "Si=pd.melt(Si,id_vars=['movieId'],value_name='movie_pred')\n",
    "Si1=pd.melt(Si1,id_vars=['movieId'],value_name='movie_pred')\n",
    "Si2=pd.melt(Si2,id_vars=['movieId'],value_name='movie_pred')\n",
    "Si3=pd.melt(Si3,id_vars=['movieId'],value_name='movie_pred')\n",
    "Si4=pd.melt(Si4,id_vars=['movieId'],value_name='movie_pred')"
   ]
  },
  {
   "cell_type": "code",
   "execution_count": 316,
   "metadata": {},
   "outputs": [
    {
     "data": {
      "text/html": [
       "<div>\n",
       "<style scoped>\n",
       "    .dataframe tbody tr th:only-of-type {\n",
       "        vertical-align: middle;\n",
       "    }\n",
       "\n",
       "    .dataframe tbody tr th {\n",
       "        vertical-align: top;\n",
       "    }\n",
       "\n",
       "    .dataframe thead th {\n",
       "        text-align: right;\n",
       "    }\n",
       "</style>\n",
       "<table border=\"1\" class=\"dataframe\">\n",
       "  <thead>\n",
       "    <tr style=\"text-align: right;\">\n",
       "      <th></th>\n",
       "      <th>movieId</th>\n",
       "      <th>userId</th>\n",
       "      <th>movie_pred</th>\n",
       "    </tr>\n",
       "  </thead>\n",
       "  <tbody>\n",
       "    <tr>\n",
       "      <td>0</td>\n",
       "      <td>1</td>\n",
       "      <td>1</td>\n",
       "      <td>0.753619</td>\n",
       "    </tr>\n",
       "    <tr>\n",
       "      <td>1</td>\n",
       "      <td>2</td>\n",
       "      <td>1</td>\n",
       "      <td>1.187946</td>\n",
       "    </tr>\n",
       "    <tr>\n",
       "      <td>2</td>\n",
       "      <td>3</td>\n",
       "      <td>1</td>\n",
       "      <td>0.802776</td>\n",
       "    </tr>\n",
       "    <tr>\n",
       "      <td>3</td>\n",
       "      <td>4</td>\n",
       "      <td>1</td>\n",
       "      <td>0.689341</td>\n",
       "    </tr>\n",
       "    <tr>\n",
       "      <td>4</td>\n",
       "      <td>5</td>\n",
       "      <td>1</td>\n",
       "      <td>0.455546</td>\n",
       "    </tr>\n",
       "  </tbody>\n",
       "</table>\n",
       "</div>"
      ],
      "text/plain": [
       "   movieId userId  movie_pred\n",
       "0        1      1    0.753619\n",
       "1        2      1    1.187946\n",
       "2        3      1    0.802776\n",
       "3        4      1    0.689341\n",
       "4        5      1    0.455546"
      ]
     },
     "execution_count": 316,
     "metadata": {},
     "output_type": "execute_result"
    }
   ],
   "source": [
    "Si4.head()"
   ]
  },
  {
   "cell_type": "code",
   "execution_count": 317,
   "metadata": {},
   "outputs": [],
   "source": [
    "Si=Si.merge(movie_mean,left_on=['movieId'],right_on=['movieId'],how='left')\n",
    "Si1=Si1.merge(movie_mean,left_on=['movieId'],right_on=['movieId'],how='left')\n",
    "Si2=Si2.merge(movie_mean,left_on=['movieId'],right_on=['movieId'],how='left')\n",
    "Si3=Si3.merge(movie_mean,left_on=['movieId'],right_on=['movieId'],how='left')\n",
    "Si4=Si4.merge(movie_mean,left_on=['movieId'],right_on=['movieId'],how='left')"
   ]
  },
  {
   "cell_type": "code",
   "execution_count": 318,
   "metadata": {},
   "outputs": [],
   "source": [
    "#merge with training data\n",
    "Si_train=Si.merge(ratings_train[['movieId','userId','rating','movie_std']],left_on=['movieId','userId'],right_on=['movieId','userId'],how='left')\n",
    "Si1_train=Si1.merge(ratings_train[['movieId','userId','rating','movie_std']],left_on=['movieId','userId'],right_on=['movieId','userId'],how='left')\n",
    "Si2_train=Si2.merge(ratings_train[['movieId','userId','rating','movie_std']],left_on=['movieId','userId'],right_on=['movieId','userId'],how='left')\n",
    "Si3_train=Si3.merge(ratings_train[['movieId','userId','rating','movie_std']],left_on=['movieId','userId'],right_on=['movieId','userId'],how='left')\n",
    "Si4_train=Si4.merge(ratings_train[['movieId','userId','rating','movie_std']],left_on=['movieId','userId'],right_on=['movieId','userId'],how='left')"
   ]
  },
  {
   "cell_type": "code",
   "execution_count": 320,
   "metadata": {},
   "outputs": [
    {
     "data": {
      "text/plain": [
       "0.1524449725686126"
      ]
     },
     "execution_count": 320,
     "metadata": {},
     "output_type": "execute_result"
    }
   ],
   "source": [
    "#rmse on standardized movie ratings\n",
    "sk_rmse(Si4_train[Si4_train['rating']>0][['movie_std']],Si4_train[Si4_train['rating']>0][['movie_pred']])"
   ]
  },
  {
   "cell_type": "code",
   "execution_count": 327,
   "metadata": {},
   "outputs": [],
   "source": [
    "Si_train['rating_pred']=Si_train['movie_avg']+Si_train['movie_pred']\n",
    "Si1_train['rating_pred']=Si1_train['movie_avg']+Si1_train['movie_pred']\n",
    "Si2_train['rating_pred']=Si2_train['movie_avg']+Si2_train['movie_pred']\n",
    "Si3_train['rating_pred']=Si3_train['movie_avg']+Si3_train['movie_pred']"
   ]
  },
  {
   "cell_type": "code",
   "execution_count": 324,
   "metadata": {},
   "outputs": [],
   "source": [
    "Si4_train['rating_pred']=Si4_train['movie_avg']+Si4_train['movie_pred']"
   ]
  },
  {
   "cell_type": "code",
   "execution_count": 328,
   "metadata": {},
   "outputs": [],
   "source": [
    "#rmse on actual movie ratings \n",
    "err=m.sqrt(sk_rmse(Si_train[Si_train['rating']>0][['rating']],Si_train[Si_train['rating']>0][['rating_pred']]))\n",
    "err1=m.sqrt(sk_rmse(Si1_train[Si1_train['rating']>0][['rating']],Si1_train[Si1_train['rating']>0][['rating_pred']]))\n",
    "err2=m.sqrt(sk_rmse(Si2_train[Si2_train['rating']>0][['rating']],Si2_train[Si2_train['rating']>0][['rating_pred']]))\n",
    "err3=m.sqrt(sk_rmse(Si3_train[Si3_train['rating']>0][['rating']],Si3_train[Si3_train['rating']>0][['rating_pred']]))"
   ]
  },
  {
   "cell_type": "code",
   "execution_count": 332,
   "metadata": {},
   "outputs": [],
   "source": [
    "#rmse on actual movie ratings \n",
    "err4=m.sqrt(sk_rmse(Si4_train[Si4_train['rating']>0][['rating']],Si4_train[Si4_train['rating']>0][['rating_pred']]))"
   ]
  },
  {
   "cell_type": "code",
   "execution_count": 333,
   "metadata": {},
   "outputs": [],
   "source": [
    "errors_train=[['3f,L=0.1',err],['5f,L=0.1',err1],['5f,L=0.3',err2],['10f,L=0.1',err3],['15f,L=0.1',err4]]"
   ]
  },
  {
   "cell_type": "markdown",
   "metadata": {},
   "source": [
    "**Plot the Training Error for different runs**"
   ]
  },
  {
   "cell_type": "code",
   "execution_count": 335,
   "metadata": {},
   "outputs": [
    {
     "data": {
      "text/plain": [
       "<matplotlib.axes._subplots.AxesSubplot at 0x23d96b9c400>"
      ]
     },
     "execution_count": 335,
     "metadata": {},
     "output_type": "execute_result"
    },
    {
     "data": {
      "image/png": "[encoded data removed]",
      "text/plain": [
       "<Figure size 432x288 with 1 Axes>"
      ]
     },
     "metadata": {
      "needs_background": "light"
     },
     "output_type": "display_data"
    }
   ],
   "source": [
    "pd.DataFrame(errors_train,columns=['run','error']).plot.bar(x='run',y='error',title='MSE Error for Collaborative Training Error')"
   ]
  },
  {
   "cell_type": "code",
   "execution_count": 337,
   "metadata": {},
   "outputs": [],
   "source": [
    "#merge with training data\n",
    "Si_test=Si.merge(ratings_test[['movieId','userId','rating','movie_std']],left_on=['movieId','userId'],right_on=['movieId','userId'],how='left')\n",
    "Si1_test=Si1.merge(ratings_test[['movieId','userId','rating','movie_std']],left_on=['movieId','userId'],right_on=['movieId','userId'],how='left')\n",
    "Si2_test=Si2.merge(ratings_test[['movieId','userId','rating','movie_std']],left_on=['movieId','userId'],right_on=['movieId','userId'],how='left')\n",
    "Si3_test=Si3.merge(ratings_test[['movieId','userId','rating','movie_std']],left_on=['movieId','userId'],right_on=['movieId','userId'],how='left')\n",
    "Si4_test=Si4.merge(ratings_test[['movieId','userId','rating','movie_std']],left_on=['movieId','userId'],right_on=['movieId','userId'],how='left')"
   ]
  },
  {
   "cell_type": "code",
   "execution_count": 339,
   "metadata": {},
   "outputs": [],
   "source": [
    "#rmse on standardized movie ratings \n",
    "err_t=m.sqrt(sk_rmse(Si_test[Si_test['rating']>0][['movie_std']],Si_test[Si_test['rating']>0][['movie_pred']]))\n",
    "err1_t=m.sqrt(sk_rmse(Si1_test[Si1_test['rating']>0][['movie_std']],Si1_test[Si1_test['rating']>0][['movie_pred']]))\n",
    "err2_t=m.sqrt(sk_rmse(Si2_test[Si2_test['rating']>0][['movie_std']],Si2_test[Si2_test['rating']>0][['movie_pred']]))\n",
    "err3_t=m.sqrt(sk_rmse(Si3_test[Si3_test['rating']>0][['movie_std']],Si3_test[Si3_test['rating']>0][['movie_pred']]))\n",
    "err4_t=m.sqrt(sk_rmse(Si4_test[Si4_test['rating']>0][['movie_std']],Si4_test[Si4_test['rating']>0][['movie_pred']]))"
   ]
  },
  {
   "cell_type": "code",
   "execution_count": 340,
   "metadata": {},
   "outputs": [],
   "source": [
    "errors_test=[['3f,L=0.1',err_t],['5f,L=0.1',err1_t],['5f,L=0.3',err2_t],['10f,L=0.1',err3_t],['15f,L=0.1',err4_t]]"
   ]
  },
  {
   "cell_type": "markdown",
   "metadata": {},
   "source": [
    "**Plot the Testing Error for different runs**"
   ]
  },
  {
   "cell_type": "code",
   "execution_count": 345,
   "metadata": {},
   "outputs": [
    {
     "data": {
      "text/plain": [
       "<matplotlib.axes._subplots.AxesSubplot at 0x23d964b4668>"
      ]
     },
     "execution_count": 345,
     "metadata": {},
     "output_type": "execute_result"
    },
    {
     "data": {
      "image/png": "[encoded data removed]",
      "text/plain": [
       "<Figure size 432x288 with 1 Axes>"
      ]
     },
     "metadata": {
      "needs_background": "light"
     },
     "output_type": "display_data"
    }
   ],
   "source": [
    "pd.DataFrame(errors_test,columns=['run','error']).plot.bar(x='run',y='error',title='MSE Error for Collaborative Testing Error',color='orange')"
   ]
  },
  {
   "cell_type": "code",
   "execution_count": 211,
   "metadata": {},
   "outputs": [],
   "source": [
    "#pd.DataFrame(sol4.T,index=rs_item.index,columns=rs_item.columns)\n",
    "movie_factors=pd.DataFrame(itm.T,index=rs_item.index)"
   ]
  },
  {
   "cell_type": "code",
   "execution_count": 240,
   "metadata": {},
   "outputs": [],
   "source": [
    "movie_factors=pd.merge(movie_factors,movie_names[['movieId','title']],left_on=\"movieId\",right_on=\"movieId\")"
   ]
  },
  {
   "cell_type": "code",
   "execution_count": 267,
   "metadata": {},
   "outputs": [],
   "source": [
    "test=movie_factors[[0,1,2,'title']][0:15]\n",
    "test=test.set_index('title')"
   ]
  },
  {
   "cell_type": "markdown",
   "metadata": {},
   "source": [
    "**Visually Examine how \"similar\" movies are across different factors**"
   ]
  },
  {
   "cell_type": "code",
   "execution_count": 356,
   "metadata": {},
   "outputs": [
    {
     "data": {
      "image/png": "[encoded data removed]",
      "text/plain": [
       "<Figure size 432x288 with 1 Axes>"
      ]
     },
     "metadata": {
      "needs_background": "light"
     },
     "output_type": "display_data"
    }
   ],
   "source": [
    "fig, ax = plt.subplots()\n",
    "ax=test[[0,1]].plot(0, 1, kind='scatter',s=50, ax=ax,color='green', title='Factors by Movie')\n",
    "ax.set_xlabel('Factor 0')\n",
    "ax.set_ylabel('Factor 1')\n",
    "for k, v in test[[0,1]].iterrows():\n",
    "    ax.annotate(k, v, fontsize=9)"
   ]
  },
  {
   "cell_type": "code",
   "execution_count": 362,
   "metadata": {},
   "outputs": [
    {
     "data": {
      "image/png": "[encoded data removed]",
      "text/plain": [
       "<Figure size 432x288 with 1 Axes>"
      ]
     },
     "metadata": {
      "needs_background": "light"
     },
     "output_type": "display_data"
    }
   ],
   "source": [
    "fig, ax = plt.subplots()\n",
    "ax=test[[0,2]].plot(0, 2, kind='scatter',s=50, ax=ax,color='orange', title='Factors by Movie')\n",
    "ax.set_xlabel('Factor 0')\n",
    "ax.set_ylabel('Factor 2')\n",
    "for k, v in test[[0,2]].iterrows():\n",
    "    ax.annotate(k, v, fontsize=8)"
   ]
  },
  {
   "cell_type": "code",
   "execution_count": 359,
   "metadata": {},
   "outputs": [
    {
     "data": {
      "text/html": [
       "<div>\n",
       "<style scoped>\n",
       "    .dataframe tbody tr th:only-of-type {\n",
       "        vertical-align: middle;\n",
       "    }\n",
       "\n",
       "    .dataframe tbody tr th {\n",
       "        vertical-align: top;\n",
       "    }\n",
       "\n",
       "    .dataframe thead th {\n",
       "        text-align: right;\n",
       "    }\n",
       "</style>\n",
       "<table border=\"1\" class=\"dataframe\">\n",
       "  <thead>\n",
       "    <tr style=\"text-align: right;\">\n",
       "      <th></th>\n",
       "      <th>0</th>\n",
       "      <th>1</th>\n",
       "      <th>2</th>\n",
       "    </tr>\n",
       "    <tr>\n",
       "      <th>title</th>\n",
       "      <th></th>\n",
       "      <th></th>\n",
       "      <th></th>\n",
       "    </tr>\n",
       "  </thead>\n",
       "  <tbody>\n",
       "    <tr>\n",
       "      <td>Toy Story (1995)</td>\n",
       "      <td>2.029068</td>\n",
       "      <td>0.811552</td>\n",
       "      <td>0.936429</td>\n",
       "    </tr>\n",
       "    <tr>\n",
       "      <td>Jumanji (1995)</td>\n",
       "      <td>1.374010</td>\n",
       "      <td>2.156931</td>\n",
       "      <td>0.881559</td>\n",
       "    </tr>\n",
       "    <tr>\n",
       "      <td>Grumpier Old Men (1995)</td>\n",
       "      <td>3.114534</td>\n",
       "      <td>1.204107</td>\n",
       "      <td>1.277851</td>\n",
       "    </tr>\n",
       "    <tr>\n",
       "      <td>Waiting to Exhale (1995)</td>\n",
       "      <td>1.741830</td>\n",
       "      <td>1.677396</td>\n",
       "      <td>0.644139</td>\n",
       "    </tr>\n",
       "    <tr>\n",
       "      <td>Father of the Bride Part II (1995)</td>\n",
       "      <td>1.549326</td>\n",
       "      <td>2.162322</td>\n",
       "      <td>0.836350</td>\n",
       "    </tr>\n",
       "    <tr>\n",
       "      <td>Heat (1995)</td>\n",
       "      <td>0.369407</td>\n",
       "      <td>1.115062</td>\n",
       "      <td>1.723070</td>\n",
       "    </tr>\n",
       "    <tr>\n",
       "      <td>Sabrina (1995)</td>\n",
       "      <td>1.602533</td>\n",
       "      <td>1.189787</td>\n",
       "      <td>0.143522</td>\n",
       "    </tr>\n",
       "    <tr>\n",
       "      <td>Tom and Huck (1995)</td>\n",
       "      <td>-0.648198</td>\n",
       "      <td>3.012316</td>\n",
       "      <td>-0.274305</td>\n",
       "    </tr>\n",
       "    <tr>\n",
       "      <td>Sudden Death (1995)</td>\n",
       "      <td>0.173973</td>\n",
       "      <td>3.124316</td>\n",
       "      <td>0.088975</td>\n",
       "    </tr>\n",
       "    <tr>\n",
       "      <td>GoldenEye (1995)</td>\n",
       "      <td>0.840573</td>\n",
       "      <td>1.493327</td>\n",
       "      <td>0.979062</td>\n",
       "    </tr>\n",
       "    <tr>\n",
       "      <td>American President, The (1995)</td>\n",
       "      <td>0.704022</td>\n",
       "      <td>1.006726</td>\n",
       "      <td>-0.161159</td>\n",
       "    </tr>\n",
       "    <tr>\n",
       "      <td>Dracula: Dead and Loving It (1995)</td>\n",
       "      <td>1.937632</td>\n",
       "      <td>0.709882</td>\n",
       "      <td>0.144954</td>\n",
       "    </tr>\n",
       "    <tr>\n",
       "      <td>Balto (1995)</td>\n",
       "      <td>1.540856</td>\n",
       "      <td>0.297204</td>\n",
       "      <td>0.153599</td>\n",
       "    </tr>\n",
       "    <tr>\n",
       "      <td>Nixon (1995)</td>\n",
       "      <td>-1.443946</td>\n",
       "      <td>-0.939548</td>\n",
       "      <td>-1.141659</td>\n",
       "    </tr>\n",
       "    <tr>\n",
       "      <td>Cutthroat Island (1995)</td>\n",
       "      <td>2.839103</td>\n",
       "      <td>0.872799</td>\n",
       "      <td>3.460105</td>\n",
       "    </tr>\n",
       "  </tbody>\n",
       "</table>\n",
       "</div>"
      ],
      "text/plain": [
       "                                           0         1         2\n",
       "title                                                           \n",
       "Toy Story (1995)                    2.029068  0.811552  0.936429\n",
       "Jumanji (1995)                      1.374010  2.156931  0.881559\n",
       "Grumpier Old Men (1995)             3.114534  1.204107  1.277851\n",
       "Waiting to Exhale (1995)            1.741830  1.677396  0.644139\n",
       "Father of the Bride Part II (1995)  1.549326  2.162322  0.836350\n",
       "Heat (1995)                         0.369407  1.115062  1.723070\n",
       "Sabrina (1995)                      1.602533  1.189787  0.143522\n",
       "Tom and Huck (1995)                -0.648198  3.012316 -0.274305\n",
       "Sudden Death (1995)                 0.173973  3.124316  0.088975\n",
       "GoldenEye (1995)                    0.840573  1.493327  0.979062\n",
       "American President, The (1995)      0.704022  1.006726 -0.161159\n",
       "Dracula: Dead and Loving It (1995)  1.937632  0.709882  0.144954\n",
       "Balto (1995)                        1.540856  0.297204  0.153599\n",
       "Nixon (1995)                       -1.443946 -0.939548 -1.141659\n",
       "Cutthroat Island (1995)             2.839103  0.872799  3.460105"
      ]
     },
     "execution_count": 359,
     "metadata": {},
     "output_type": "execute_result"
    }
   ],
   "source": [
    "test"
   ]
  },
  {
   "cell_type": "markdown",
   "metadata": {},
   "source": [
    "**Use the analysis with 3 factors to predict movies most similar to a particular movie**"
   ]
  },
  {
   "cell_type": "code",
   "execution_count": 358,
   "metadata": {},
   "outputs": [
    {
     "data": {
      "text/html": [
       "<div>\n",
       "<style scoped>\n",
       "    .dataframe tbody tr th:only-of-type {\n",
       "        vertical-align: middle;\n",
       "    }\n",
       "\n",
       "    .dataframe tbody tr th {\n",
       "        vertical-align: top;\n",
       "    }\n",
       "\n",
       "    .dataframe thead th {\n",
       "        text-align: right;\n",
       "    }\n",
       "</style>\n",
       "<table border=\"1\" class=\"dataframe\">\n",
       "  <thead>\n",
       "    <tr style=\"text-align: right;\">\n",
       "      <th></th>\n",
       "      <th>movieId</th>\n",
       "      <th>0</th>\n",
       "      <th>1</th>\n",
       "      <th>2</th>\n",
       "      <th>title</th>\n",
       "    </tr>\n",
       "  </thead>\n",
       "  <tbody>\n",
       "    <tr>\n",
       "      <td>0</td>\n",
       "      <td>1</td>\n",
       "      <td>2.029068</td>\n",
       "      <td>0.811552</td>\n",
       "      <td>0.936429</td>\n",
       "      <td>Toy Story (1995)</td>\n",
       "    </tr>\n",
       "    <tr>\n",
       "      <td>1</td>\n",
       "      <td>2</td>\n",
       "      <td>1.374010</td>\n",
       "      <td>2.156931</td>\n",
       "      <td>0.881559</td>\n",
       "      <td>Jumanji (1995)</td>\n",
       "    </tr>\n",
       "    <tr>\n",
       "      <td>2</td>\n",
       "      <td>3</td>\n",
       "      <td>3.114534</td>\n",
       "      <td>1.204107</td>\n",
       "      <td>1.277851</td>\n",
       "      <td>Grumpier Old Men (1995)</td>\n",
       "    </tr>\n",
       "    <tr>\n",
       "      <td>3</td>\n",
       "      <td>4</td>\n",
       "      <td>1.741830</td>\n",
       "      <td>1.677396</td>\n",
       "      <td>0.644139</td>\n",
       "      <td>Waiting to Exhale (1995)</td>\n",
       "    </tr>\n",
       "    <tr>\n",
       "      <td>4</td>\n",
       "      <td>5</td>\n",
       "      <td>1.549326</td>\n",
       "      <td>2.162322</td>\n",
       "      <td>0.836350</td>\n",
       "      <td>Father of the Bride Part II (1995)</td>\n",
       "    </tr>\n",
       "  </tbody>\n",
       "</table>\n",
       "</div>"
      ],
      "text/plain": [
       "   movieId         0         1         2                               title\n",
       "0        1  2.029068  0.811552  0.936429                    Toy Story (1995)\n",
       "1        2  1.374010  2.156931  0.881559                      Jumanji (1995)\n",
       "2        3  3.114534  1.204107  1.277851             Grumpier Old Men (1995)\n",
       "3        4  1.741830  1.677396  0.644139            Waiting to Exhale (1995)\n",
       "4        5  1.549326  2.162322  0.836350  Father of the Bride Part II (1995)"
      ]
     },
     "execution_count": 358,
     "metadata": {},
     "output_type": "execute_result"
    }
   ],
   "source": [
    "movie_factors.head(n=5)"
   ]
  },
  {
   "cell_type": "code",
   "execution_count": 272,
   "metadata": {},
   "outputs": [],
   "source": [
    "movie_cos=cosine_similarity(movie_factors[[0,1,2]],movie_factors[[0,1,2]])"
   ]
  },
  {
   "cell_type": "markdown",
   "metadata": {},
   "source": [
    "Lets look at all the movies that are predicted to be similar to the **Father of the Bride PartII**"
   ]
  },
  {
   "cell_type": "code",
   "execution_count": 346,
   "metadata": {},
   "outputs": [],
   "source": [
    "movie_sim=pd.DataFrame(movie_cos[4],index=movie_factors.iloc[:,0])"
   ]
  },
  {
   "cell_type": "code",
   "execution_count": 347,
   "metadata": {},
   "outputs": [
    {
     "data": {
      "text/html": [
       "<div>\n",
       "<style scoped>\n",
       "    .dataframe tbody tr th:only-of-type {\n",
       "        vertical-align: middle;\n",
       "    }\n",
       "\n",
       "    .dataframe tbody tr th {\n",
       "        vertical-align: top;\n",
       "    }\n",
       "\n",
       "    .dataframe thead th {\n",
       "        text-align: right;\n",
       "    }\n",
       "</style>\n",
       "<table border=\"1\" class=\"dataframe\">\n",
       "  <thead>\n",
       "    <tr style=\"text-align: right;\">\n",
       "      <th></th>\n",
       "      <th>0</th>\n",
       "    </tr>\n",
       "    <tr>\n",
       "      <th>movieId</th>\n",
       "      <th></th>\n",
       "    </tr>\n",
       "  </thead>\n",
       "  <tbody>\n",
       "    <tr>\n",
       "      <td>1</td>\n",
       "      <td>0.857015</td>\n",
       "    </tr>\n",
       "    <tr>\n",
       "      <td>2</td>\n",
       "      <td>0.998286</td>\n",
       "    </tr>\n",
       "    <tr>\n",
       "      <td>3</td>\n",
       "      <td>0.852363</td>\n",
       "    </tr>\n",
       "    <tr>\n",
       "      <td>4</td>\n",
       "      <td>0.983707</td>\n",
       "    </tr>\n",
       "    <tr>\n",
       "      <td>5</td>\n",
       "      <td>1.000000</td>\n",
       "    </tr>\n",
       "  </tbody>\n",
       "</table>\n",
       "</div>"
      ],
      "text/plain": [
       "                0\n",
       "movieId          \n",
       "1        0.857015\n",
       "2        0.998286\n",
       "3        0.852363\n",
       "4        0.983707\n",
       "5        1.000000"
      ]
     },
     "execution_count": 347,
     "metadata": {},
     "output_type": "execute_result"
    }
   ],
   "source": [
    "movie_sim.head(n=5)"
   ]
  },
  {
   "cell_type": "code",
   "execution_count": 348,
   "metadata": {},
   "outputs": [],
   "source": [
    "movie_sim=movie_sim.merge(movie_names[['movieId','title']],left_on='movieId',right_on='movieId')"
   ]
  },
  {
   "cell_type": "code",
   "execution_count": 349,
   "metadata": {},
   "outputs": [
    {
     "data": {
      "text/html": [
       "<div>\n",
       "<style scoped>\n",
       "    .dataframe tbody tr th:only-of-type {\n",
       "        vertical-align: middle;\n",
       "    }\n",
       "\n",
       "    .dataframe tbody tr th {\n",
       "        vertical-align: top;\n",
       "    }\n",
       "\n",
       "    .dataframe thead th {\n",
       "        text-align: right;\n",
       "    }\n",
       "</style>\n",
       "<table border=\"1\" class=\"dataframe\">\n",
       "  <thead>\n",
       "    <tr style=\"text-align: right;\">\n",
       "      <th></th>\n",
       "      <th>movieId</th>\n",
       "      <th>0</th>\n",
       "      <th>title</th>\n",
       "    </tr>\n",
       "  </thead>\n",
       "  <tbody>\n",
       "    <tr>\n",
       "      <td>4</td>\n",
       "      <td>5</td>\n",
       "      <td>1.000000</td>\n",
       "      <td>Father of the Bride Part II (1995)</td>\n",
       "    </tr>\n",
       "    <tr>\n",
       "      <td>367</td>\n",
       "      <td>436</td>\n",
       "      <td>0.999708</td>\n",
       "      <td>Color of Night (1994)</td>\n",
       "    </tr>\n",
       "    <tr>\n",
       "      <td>2668</td>\n",
       "      <td>3798</td>\n",
       "      <td>0.999441</td>\n",
       "      <td>What Lies Beneath (2000)</td>\n",
       "    </tr>\n",
       "    <tr>\n",
       "      <td>5786</td>\n",
       "      <td>51540</td>\n",
       "      <td>0.999413</td>\n",
       "      <td>Zodiac (2007)</td>\n",
       "    </tr>\n",
       "    <tr>\n",
       "      <td>6830</td>\n",
       "      <td>88235</td>\n",
       "      <td>0.999365</td>\n",
       "      <td>Guard, The (2011)</td>\n",
       "    </tr>\n",
       "    <tr>\n",
       "      <td>6882</td>\n",
       "      <td>90249</td>\n",
       "      <td>0.999187</td>\n",
       "      <td>Real Steel (2011)</td>\n",
       "    </tr>\n",
       "    <tr>\n",
       "      <td>1111</td>\n",
       "      <td>1544</td>\n",
       "      <td>0.999141</td>\n",
       "      <td>Lost World: Jurassic Park, The (1997)</td>\n",
       "    </tr>\n",
       "    <tr>\n",
       "      <td>2076</td>\n",
       "      <td>2918</td>\n",
       "      <td>0.999071</td>\n",
       "      <td>Ferris Bueller's Day Off (1986)</td>\n",
       "    </tr>\n",
       "    <tr>\n",
       "      <td>4446</td>\n",
       "      <td>7285</td>\n",
       "      <td>0.998902</td>\n",
       "      <td>Thirteen (2003)</td>\n",
       "    </tr>\n",
       "    <tr>\n",
       "      <td>5615</td>\n",
       "      <td>46530</td>\n",
       "      <td>0.998869</td>\n",
       "      <td>Superman Returns (2006)</td>\n",
       "    </tr>\n",
       "  </tbody>\n",
       "</table>\n",
       "</div>"
      ],
      "text/plain": [
       "      movieId         0                                  title\n",
       "4           5  1.000000     Father of the Bride Part II (1995)\n",
       "367       436  0.999708                  Color of Night (1994)\n",
       "2668     3798  0.999441               What Lies Beneath (2000)\n",
       "5786    51540  0.999413                          Zodiac (2007)\n",
       "6830    88235  0.999365                      Guard, The (2011)\n",
       "6882    90249  0.999187                      Real Steel (2011)\n",
       "1111     1544  0.999141  Lost World: Jurassic Park, The (1997)\n",
       "2076     2918  0.999071        Ferris Bueller's Day Off (1986)\n",
       "4446     7285  0.998902                        Thirteen (2003)\n",
       "5615    46530  0.998869                Superman Returns (2006)"
      ]
     },
     "execution_count": 349,
     "metadata": {},
     "output_type": "execute_result"
    }
   ],
   "source": [
    "movie_sim.sort_values(by=[0],ascending=False).head(n=10)"
   ]
  },
  {
   "cell_type": "markdown",
   "metadata": {},
   "source": [
    "#### References\n",
    "1. https://github.com/mickeykedia/Matrix-Factorization-ALS/blob/master/ALS%20Python%20Implementation.py\n",
    "\n",
    "Code for ALS function was sourced from the link above\n",
    "2. https://stackoverflow.com/questions/15910019/annotate-data-points-while-plotting-from-pandas-dataframe/15911372#15911372"
   ]
  }
 ],
 "metadata": {
  "kernelspec": {
   "display_name": "Python 3",
   "language": "python",
   "name": "python3"
  },
  "language_info": {
   "codemirror_mode": {
    "name": "ipython",
    "version": 3
   },
   "file_extension": ".py",
   "mimetype": "text/x-python",
   "name": "python",
   "nbconvert_exporter": "python",
   "pygments_lexer": "ipython3",
   "version": "3.6.9"
  }
 },
 "nbformat": 4,
 "nbformat_minor": 2
}
