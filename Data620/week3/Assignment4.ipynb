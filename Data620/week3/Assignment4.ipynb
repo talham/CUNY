{
 "cells": [
  {
   "cell_type": "markdown",
   "metadata": {},
   "source": [
    "## Assignment Week 4\n",
    " \n",
    "\n",
    "Centrality measures can be used to predict (positive or negative) outcomes for a node.\n",
    "\n",
    "Your task in this week’s assignment is to identify an interesting set of network data that is available on the web (either through web scraping or web APIs) that could be used for analyzing and comparing centrality measures across nodes.  As an additional constraint, there should be at least one categorical variable available for each node (such as “Male” or “Female”; “Republican”, “Democrat,” or “Undecided”, etc.)\n",
    "\n",
    "In addition to identifying your data source, you should create a high level plan that describes how you would load the data for analysis, and describe a hypothetical outcome that could be predicted from comparing degree centrality across categorical groups."
   ]
  },
  {
   "cell_type": "markdown",
   "metadata": {},
   "source": [
    "### The Data Source\n",
    "I plan to utilize the learning social circles dataset on Kaggle. Social Circles help users organize their personal social networks.  These are implemented as \"circles\" on Google+, and as \"lists\" on Facebook and Twitter. Each circle consists of a subset of a particular user's friends. Such circles may be disjoint, overlap, or be hierarchically nested. The dataset provides users' social circles. The dataset provides:\n",
    "\n",
    "- A list of the user's friends\n",
    "- Anonymized Facebook profiles of each of those friends\n",
    "- A network of connections between those friends (their \"ego network\")\n",
    "\n",
    "A number of categorical variables are included in the dataset, \n",
    "https://www.kaggle.com/c/learning-social-circles/data\n",
    "\n",
    "### High Level Plan\n",
    "\n",
    "The proposed plan for analysis to load the data and conduct and develop centrality measures. Once centrality measures have been developed, I will use clustering (hierarchical, k-means etc) to organize these measures.\n",
    "\n",
    "#### Hypothetical Outcomes\n",
    "The result of the analysis would be to predict the social circles of the users. Techically the model we use / select needs to performs tasks at equal or better than classification."
   ]
  }
 ],
 "metadata": {
  "kernelspec": {
   "display_name": "Python 2",
   "language": "python",
   "name": "python2"
  },
  "language_info": {
   "codemirror_mode": {
    "name": "ipython",
    "version": 2
   },
   "file_extension": ".py",
   "mimetype": "text/x-python",
   "name": "python",
   "nbconvert_exporter": "python",
   "pygments_lexer": "ipython2",
   "version": "2.7.15"
  }
 },
 "nbformat": 4,
 "nbformat_minor": 2
}
